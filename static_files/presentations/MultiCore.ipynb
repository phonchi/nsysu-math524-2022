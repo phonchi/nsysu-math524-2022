{
 "cells": [
  {
   "cell_type": "markdown",
   "metadata": {
    "id": "8nDlDihj1RCG"
   },
   "source": [
    "# Enhancing performance using Parallel computing\n",
    "- Start by profiling a serial program to identify bottlenecks\n",
    "- Are there opportunities for parallelism?\n",
    "    - Loops\n",
    "    - Can data be split in parallel?\n",
    "    - Pipeline of stages?\n",
    "- Choose an approach and pattern\n",
    "- Map to the parallel environment\n",
    "    - Multicore\n",
    "    - GPU\n",
    "    - Multinode\n",
    "\n",
    "## Embarrassingly parallel programs\n",
    "Many problems are embarrassingly parallel and can be easily decomposed into independent tasks or data sets. Here are several examples:\n",
    "\n",
    "- Monte Carlo integration\n",
    "- Bootstrap for calculating statistics\n",
    "- Fitting the same model on multiple data sets\n",
    "- Running simulation with different settings\n",
    "\n",
    "There are many parallel design patterns. The simplest way is to divide it into \n",
    "\n",
    "- Data parallelism means that the data is distributed across processes (e.g., MPI, Hadoop, Spark)\n",
    "- Task parallelism means that tasks (functions) are distributed across processes, and different units of work (data) are sent to each task (e.g., multithreading, multiprocessing, single GPU programming)."
   ]
  },
  {
   "cell_type": "markdown",
   "metadata": {
    "id": "s5PNv4531RCI"
   },
   "source": [
    "## Using multiple cores with `multiprocessing`\n",
    "\n",
    "The standard implementation of Python uses a Global Interpreter Lock (GIL). This means that only one thread can be run at any one time, and multiple threads work by time-slicing. Hence multi-threaded code with lots of latency (waiting for the network to respond, I/O) can result in speed-ups, but multi-threaded code which is computationally intensive will not see any speed-up. For numerically intensive code, parallel code needs to be run in separate processes to see speed-ups.\n",
    "\n",
    "- Process\n",
    "    - Heavyweight\n",
    "    - Have a separate memory space\n",
    "    - Large cost for communications\n",
    "- Thread\n",
    "    - Lightweight\n",
    "    - Share the same memory space\n",
    "    - Small cost for communications"
   ]
  },
  {
   "cell_type": "markdown",
   "metadata": {
    "id": "iNSv5aEx1RCJ"
   },
   "source": [
    "First we see how to split the computation into pieces using a loop."
   ]
  },
  {
   "cell_type": "code",
   "execution_count": 1,
   "metadata": {
    "executionInfo": {
     "elapsed": 1495,
     "status": "ok",
     "timestamp": 1629280336302,
     "user": {
      "displayName": "思齊鍾",
      "photoUrl": "",
      "userId": "00591983406172857081"
     },
     "user_tz": -480
    },
    "id": "pEAluW6V1RCK"
   },
   "outputs": [],
   "source": [
    "from multiprocessing import (Pool, Process, cpu_count)\n",
    "import multiprocessing as mp\n",
    "import time\n",
    "from numba import njit\n",
    "from math import sqrt\n",
    "import numpy as np"
   ]
  },
  {
   "cell_type": "code",
   "execution_count": 2,
   "metadata": {
    "colab": {
     "base_uri": "https://localhost:8080/"
    },
    "executionInfo": {
     "elapsed": 297,
     "status": "ok",
     "timestamp": 1628343785738,
     "user": {
      "displayName": "phonchi chung",
      "photoUrl": "https://lh3.googleusercontent.com/a-/AOh14GhRxL9y0Ae78wMRxbf60aXYoHK4g_6vYEy3yrLutg=s64",
      "userId": "13517391734500420886"
     },
     "user_tz": -480
    },
    "id": "5EVccksb1RCK",
    "outputId": "825458b9-ea35-4acf-ea55-a7e74cc749da"
   },
   "outputs": [
    {
     "data": {
      "text/plain": [
       "8"
      ]
     },
     "execution_count": 2,
     "metadata": {},
     "output_type": "execute_result"
    }
   ],
   "source": [
    "cpu_count()"
   ]
  },
  {
   "cell_type": "code",
   "execution_count": null,
   "metadata": {
    "colab": {
     "base_uri": "https://localhost:8080/"
    },
    "executionInfo": {
     "elapsed": 310,
     "status": "ok",
     "timestamp": 1628343487279,
     "user": {
      "displayName": "phonchi chung",
      "photoUrl": "https://lh3.googleusercontent.com/a-/AOh14GhRxL9y0Ae78wMRxbf60aXYoHK4g_6vYEy3yrLutg=s64",
      "userId": "13517391734500420886"
     },
     "user_tz": -480
    },
    "id": "ihrD1H0f1RCL",
    "outputId": "3d3ca97e-ab50-4538-c557-ff9dad8188f0"
   },
   "outputs": [
    {
     "data": {
      "text/plain": [
       "[0.0, 1.0, 2.0, 3.0, 4.0, 5.0, 6.0, 7.0, 8.0, 9.0]"
      ]
     },
     "execution_count": 3,
     "metadata": {
      "tags": []
     },
     "output_type": "execute_result"
    }
   ],
   "source": [
    "[sqrt(i ** 2) for i in range(10)]"
   ]
  },
  {
   "cell_type": "code",
   "execution_count": null,
   "metadata": {
    "colab": {
     "base_uri": "https://localhost:8080/"
    },
    "executionInfo": {
     "elapsed": 330,
     "status": "ok",
     "timestamp": 1628343504870,
     "user": {
      "displayName": "phonchi chung",
      "photoUrl": "https://lh3.googleusercontent.com/a-/AOh14GhRxL9y0Ae78wMRxbf60aXYoHK4g_6vYEy3yrLutg=s64",
      "userId": "13517391734500420886"
     },
     "user_tz": -480
    },
    "id": "B9uC59Sw1RCM",
    "outputId": "20d19b55-4f24-48fd-ba61-240986420b37"
   },
   "outputs": [
    {
     "name": "stdout",
     "output_type": "stream",
     "text": [
      "Writing defs.py\n"
     ]
    }
   ],
   "source": [
    "%%writefile defs.py\n",
    "from math import sqrt\n",
    "\n",
    "def sqrt_list(i):\n",
    "    return sqrt(i**2)"
   ]
  },
  {
   "cell_type": "code",
   "execution_count": null,
   "metadata": {
    "id": "HdpP6VXW1RCN"
   },
   "outputs": [],
   "source": [
    "import defs"
   ]
  },
  {
   "cell_type": "code",
   "execution_count": null,
   "metadata": {
    "colab": {
     "base_uri": "https://localhost:8080/"
    },
    "executionInfo": {
     "elapsed": 321,
     "status": "ok",
     "timestamp": 1628343507595,
     "user": {
      "displayName": "phonchi chung",
      "photoUrl": "https://lh3.googleusercontent.com/a-/AOh14GhRxL9y0Ae78wMRxbf60aXYoHK4g_6vYEy3yrLutg=s64",
      "userId": "13517391734500420886"
     },
     "user_tz": -480
    },
    "id": "zVP1uVBb1RCN",
    "outputId": "a7d225e6-e789-4879-c717-2012aba7d8d8"
   },
   "outputs": [
    {
     "data": {
      "text/plain": [
       "[0.0, 1.0, 2.0, 3.0, 4.0, 5.0, 6.0, 7.0, 8.0, 9.0]"
      ]
     },
     "execution_count": 6,
     "metadata": {
      "tags": []
     },
     "output_type": "execute_result"
    }
   ],
   "source": [
    "with mp.Pool(processes=cpu_count()) as pool:\n",
    "    res = pool.map(defs.sqrt_list, [i for i in range(10)])\n",
    "res"
   ]
  },
  {
   "cell_type": "code",
   "execution_count": null,
   "metadata": {
    "colab": {
     "base_uri": "https://localhost:8080/"
    },
    "executionInfo": {
     "elapsed": 302,
     "status": "ok",
     "timestamp": 1628343512168,
     "user": {
      "displayName": "phonchi chung",
      "photoUrl": "https://lh3.googleusercontent.com/a-/AOh14GhRxL9y0Ae78wMRxbf60aXYoHK4g_6vYEy3yrLutg=s64",
      "userId": "13517391734500420886"
     },
     "user_tz": -480
    },
    "id": "SdQg0wfo1RCO",
    "outputId": "a861f3b9-93b3-4779-ede2-c415e0393576"
   },
   "outputs": [
    {
     "data": {
      "text/plain": [
       "[0.0, 1.0, 2.0, 3.0, 4.0, 5.0, 6.0, 7.0, 8.0, 9.0]"
      ]
     },
     "execution_count": 7,
     "metadata": {
      "tags": []
     },
     "output_type": "execute_result"
    }
   ],
   "source": [
    "res"
   ]
  },
  {
   "cell_type": "markdown",
   "metadata": {
    "id": "_dbfMcIH1RCP"
   },
   "source": [
    "### Functions with multiple arguments"
   ]
  },
  {
   "cell_type": "code",
   "execution_count": null,
   "metadata": {
    "colab": {
     "base_uri": "https://localhost:8080/"
    },
    "executionInfo": {
     "elapsed": 300,
     "status": "ok",
     "timestamp": 1628343517545,
     "user": {
      "displayName": "phonchi chung",
      "photoUrl": "https://lh3.googleusercontent.com/a-/AOh14GhRxL9y0Ae78wMRxbf60aXYoHK4g_6vYEy3yrLutg=s64",
      "userId": "13517391734500420886"
     },
     "user_tz": -480
    },
    "id": "yGwy9i3o1RCP",
    "outputId": "9770cf54-96ba-47a3-d32e-5b32717386bd"
   },
   "outputs": [
    {
     "name": "stdout",
     "output_type": "stream",
     "text": [
      "Writing defs2.py\n"
     ]
    }
   ],
   "source": [
    "%%writefile defs2.py\n",
    "\n",
    "def f(a, b, c):\n",
    "    return a + b + c"
   ]
  },
  {
   "cell_type": "code",
   "execution_count": null,
   "metadata": {
    "id": "1ltZpaCj1RCQ"
   },
   "outputs": [],
   "source": [
    "import defs2"
   ]
  },
  {
   "cell_type": "code",
   "execution_count": null,
   "metadata": {
    "colab": {
     "base_uri": "https://localhost:8080/"
    },
    "executionInfo": {
     "elapsed": 3,
     "status": "ok",
     "timestamp": 1628343520225,
     "user": {
      "displayName": "phonchi chung",
      "photoUrl": "https://lh3.googleusercontent.com/a-/AOh14GhRxL9y0Ae78wMRxbf60aXYoHK4g_6vYEy3yrLutg=s64",
      "userId": "13517391734500420886"
     },
     "user_tz": -480
    },
    "id": "9wLdHgwy1RCQ",
    "outputId": "47921fba-9b98-4e01-e016-5d2603e78ad2"
   },
   "outputs": [
    {
     "data": {
      "text/plain": [
       "[array([0, 1, 2]),\n",
       " array([3, 4, 5]),\n",
       " array([6, 7, 8]),\n",
       " array([ 9, 10, 11]),\n",
       " array([12, 13, 14]),\n",
       " array([15, 16, 17]),\n",
       " array([18, 19, 20]),\n",
       " array([21, 22, 23])]"
      ]
     },
     "execution_count": 10,
     "metadata": {
      "tags": []
     },
     "output_type": "execute_result"
    }
   ],
   "source": [
    "x = np.arange(24)\n",
    "x_s = np.array_split(x, x.shape[0]//3)\n",
    "x_s"
   ]
  },
  {
   "cell_type": "code",
   "execution_count": null,
   "metadata": {
    "colab": {
     "base_uri": "https://localhost:8080/"
    },
    "executionInfo": {
     "elapsed": 296,
     "status": "ok",
     "timestamp": 1628343523155,
     "user": {
      "displayName": "phonchi chung",
      "photoUrl": "https://lh3.googleusercontent.com/a-/AOh14GhRxL9y0Ae78wMRxbf60aXYoHK4g_6vYEy3yrLutg=s64",
      "userId": "13517391734500420886"
     },
     "user_tz": -480
    },
    "id": "eeNXQaTy1RCQ",
    "outputId": "37d773f5-c4ae-4c2a-8909-2c3d8f7e3acd"
   },
   "outputs": [
    {
     "data": {
      "text/plain": [
       "[3, 12, 21, 30, 39, 48, 57, 66]"
      ]
     },
     "execution_count": 11,
     "metadata": {
      "tags": []
     },
     "output_type": "execute_result"
    }
   ],
   "source": [
    "with mp.Pool(processes=cpu_count()) as pool:\n",
    "    res = pool.starmap(defs2.f, x_s)\n",
    "res"
   ]
  },
  {
   "cell_type": "markdown",
   "metadata": {
    "id": "Jqu6VV7L1RCR"
   },
   "source": [
    "#### MoteCarlo"
   ]
  },
  {
   "cell_type": "code",
   "execution_count": null,
   "metadata": {
    "colab": {
     "base_uri": "https://localhost:8080/"
    },
    "executionInfo": {
     "elapsed": 472,
     "status": "ok",
     "timestamp": 1628343528534,
     "user": {
      "displayName": "phonchi chung",
      "photoUrl": "https://lh3.googleusercontent.com/a-/AOh14GhRxL9y0Ae78wMRxbf60aXYoHK4g_6vYEy3yrLutg=s64",
      "userId": "13517391734500420886"
     },
     "user_tz": -480
    },
    "id": "LCV1y4Zh1RCR",
    "outputId": "80daf41f-e96e-4e9a-b577-30d74435ed90"
   },
   "outputs": [
    {
     "name": "stdout",
     "output_type": "stream",
     "text": [
      "Writing defs3.py\n"
     ]
    }
   ],
   "source": [
    "%%writefile defs3.py\n",
    "import numpy as np\n",
    "\n",
    "def monte_carlo_pi(n):\n",
    "    x = np.random.uniform(-1, 1, (n,2))\n",
    "    return 4*np.sum((x**2).sum(1) < 1)/n"
   ]
  },
  {
   "cell_type": "code",
   "execution_count": null,
   "metadata": {
    "id": "12Ms7-8O1RCR"
   },
   "outputs": [],
   "source": [
    "import defs3"
   ]
  },
  {
   "cell_type": "code",
   "execution_count": null,
   "metadata": {
    "colab": {
     "base_uri": "https://localhost:8080/"
    },
    "executionInfo": {
     "elapsed": 27076,
     "status": "ok",
     "timestamp": 1628343558430,
     "user": {
      "displayName": "phonchi chung",
      "photoUrl": "https://lh3.googleusercontent.com/a-/AOh14GhRxL9y0Ae78wMRxbf60aXYoHK4g_6vYEy3yrLutg=s64",
      "userId": "13517391734500420886"
     },
     "user_tz": -480
    },
    "id": "d75Q-e8F1RCR",
    "outputId": "3e268287-14d2-44b4-e7ce-4ac0c359ebe9"
   },
   "outputs": [
    {
     "name": "stdout",
     "output_type": "stream",
     "text": [
      "1 loop, best of 5: 4.39 s per loop\n"
     ]
    }
   ],
   "source": [
    "%%timeit  \n",
    "global res\n",
    "res = [defs3.monte_carlo_pi(int(1e7)) for i in range(10)]"
   ]
  },
  {
   "cell_type": "code",
   "execution_count": null,
   "metadata": {
    "colab": {
     "base_uri": "https://localhost:8080/"
    },
    "executionInfo": {
     "elapsed": 24076,
     "status": "ok",
     "timestamp": 1628343586743,
     "user": {
      "displayName": "phonchi chung",
      "photoUrl": "https://lh3.googleusercontent.com/a-/AOh14GhRxL9y0Ae78wMRxbf60aXYoHK4g_6vYEy3yrLutg=s64",
      "userId": "13517391734500420886"
     },
     "user_tz": -480
    },
    "id": "0bLORE6h1RCS",
    "outputId": "7cc1ddf4-baa8-4395-8f9b-fcbc0122faac"
   },
   "outputs": [
    {
     "name": "stdout",
     "output_type": "stream",
     "text": [
      "1 loop, best of 5: 3.83 s per loop\n"
     ]
    }
   ],
   "source": [
    "%%timeit\n",
    "global re2\n",
    "with mp.Pool(processes=cpu_count()) as pool:\n",
    "    res2 = pool.map(defs3.monte_carlo_pi, [int(1e7) for i in range(10)])"
   ]
  },
  {
   "cell_type": "code",
   "execution_count": null,
   "metadata": {
    "colab": {
     "base_uri": "https://localhost:8080/"
    },
    "executionInfo": {
     "elapsed": 28670,
     "status": "ok",
     "timestamp": 1628343752480,
     "user": {
      "displayName": "phonchi chung",
      "photoUrl": "https://lh3.googleusercontent.com/a-/AOh14GhRxL9y0Ae78wMRxbf60aXYoHK4g_6vYEy3yrLutg=s64",
      "userId": "13517391734500420886"
     },
     "user_tz": -480
    },
    "id": "a-RP-m7j2KUI",
    "outputId": "1e95f74a-16ae-4771-e3cd-ff352290e968"
   },
   "outputs": [
    {
     "name": "stdout",
     "output_type": "stream",
     "text": [
      "1 loop, best of 5: 4.59 s per loop\n"
     ]
    }
   ],
   "source": [
    "%%timeit\n",
    "global re2\n",
    "with mp.Pool(processes=40) as pool:\n",
    "    res2 = pool.map(defs3.monte_carlo_pi, [int(1e7) for i in range(10)])"
   ]
  },
  {
   "cell_type": "markdown",
   "metadata": {
    "id": "EA39o5zV1RCS"
   },
   "source": [
    "- Check map_async vs map https://discuss.python.org/t/differences-between-pool-map-pool-apply-and-pool-apply-async/6575/2 "
   ]
  },
  {
   "cell_type": "markdown",
   "metadata": {
    "id": "PYju_Dtk1RCS"
   },
   "source": [
    "## Using `Threading`"
   ]
  },
  {
   "cell_type": "markdown",
   "metadata": {
    "id": "vi9EISVO1RCS"
   },
   "source": [
    "- Check threading vs multiprocessing https://blog.floydhub.com/multiprocessing-vs-threading-in-python-what-every-data-scientist-needs-to-know/"
   ]
  },
  {
   "cell_type": "code",
   "execution_count": 3,
   "metadata": {
    "id": "eURtNR8E1RCT"
   },
   "outputs": [],
   "source": [
    "from multiprocessing.dummy import Pool as ThreadPool\n",
    "import requests"
   ]
  },
  {
   "cell_type": "code",
   "execution_count": null,
   "metadata": {
    "id": "oUvMAuGq1RCT"
   },
   "outputs": [],
   "source": [
    "def func(number):\n",
    "    url = 'http://example.com/'\n",
    "    for i in range(number):\n",
    "        response = requests.get(url)\n",
    "        print(len(response.text))"
   ]
  },
  {
   "cell_type": "code",
   "execution_count": null,
   "metadata": {
    "colab": {
     "base_uri": "https://localhost:8080/"
    },
    "executionInfo": {
     "elapsed": 304,
     "status": "ok",
     "timestamp": 1628343795799,
     "user": {
      "displayName": "phonchi chung",
      "photoUrl": "https://lh3.googleusercontent.com/a-/AOh14GhRxL9y0Ae78wMRxbf60aXYoHK4g_6vYEy3yrLutg=s64",
      "userId": "13517391734500420886"
     },
     "user_tz": -480
    },
    "id": "sYdTWG4h1RCT",
    "outputId": "c340ab82-2694-4be6-a44b-5357937f582f"
   },
   "outputs": [
    {
     "name": "stdout",
     "output_type": "stream",
     "text": [
      "1256\n",
      "1256\n",
      "1256\n",
      "1256\n",
      "12561256\n",
      "\n",
      "1256\n",
      "1256\n",
      "1256\n",
      "1256\n",
      "1256\n",
      "1256\n"
     ]
    }
   ],
   "source": [
    "with ThreadPool(processes=4) as pool:\n",
    "    res2 = pool.map(func, [3,3,3,3])"
   ]
  },
  {
   "cell_type": "markdown",
   "metadata": {
    "id": "i93ifCM61RCT"
   },
   "source": [
    "## Using `Joblib`"
   ]
  },
  {
   "cell_type": "markdown",
   "metadata": {
    "id": "npfJk7n81RCT"
   },
   "source": [
    "`joblib` provides parallel processing using a comprehension syntax"
   ]
  },
  {
   "cell_type": "code",
   "execution_count": 4,
   "metadata": {
    "executionInfo": {
     "elapsed": 269,
     "status": "ok",
     "timestamp": 1629280351675,
     "user": {
      "displayName": "思齊鍾",
      "photoUrl": "",
      "userId": "00591983406172857081"
     },
     "user_tz": -480
    },
    "id": "tr0WW2Df1RCT"
   },
   "outputs": [],
   "source": [
    "from joblib import Parallel, delayed\n",
    "from functools import partial\n",
    "from tqdm import tqdm\n",
    "tqdm = partial(tqdm, position=0, leave=True)"
   ]
  },
  {
   "cell_type": "code",
   "execution_count": null,
   "metadata": {
    "colab": {
     "base_uri": "https://localhost:8080/"
    },
    "executionInfo": {
     "elapsed": 1185,
     "status": "ok",
     "timestamp": 1628343816951,
     "user": {
      "displayName": "phonchi chung",
      "photoUrl": "https://lh3.googleusercontent.com/a-/AOh14GhRxL9y0Ae78wMRxbf60aXYoHK4g_6vYEy3yrLutg=s64",
      "userId": "13517391734500420886"
     },
     "user_tz": -480
    },
    "id": "SbSw-Kes1RCU",
    "outputId": "616105d6-586a-44d7-fed7-a419120ec8a3"
   },
   "outputs": [
    {
     "name": "stderr",
     "output_type": "stream",
     "text": [
      "100%|██████████| 10/10 [00:00<00:00, 11.41it/s]\n"
     ]
    },
    {
     "data": {
      "text/plain": [
       "[0.0, 1.0, 2.0, 3.0, 4.0, 5.0, 6.0, 7.0, 8.0, 9.0]"
      ]
     },
     "execution_count": 25,
     "metadata": {
      "tags": []
     },
     "output_type": "execute_result"
    }
   ],
   "source": [
    "Parallel(n_jobs=4)(delayed(sqrt)(i ** 2) for i in tqdm(range(10)))"
   ]
  },
  {
   "cell_type": "code",
   "execution_count": null,
   "metadata": {
    "id": "tInSm2Vw1RCU"
   },
   "outputs": [],
   "source": [
    "x = np.arange(24)\n",
    "x_s = np.array_split(x, x.shape[0]//3)"
   ]
  },
  {
   "cell_type": "code",
   "execution_count": null,
   "metadata": {
    "colab": {
     "base_uri": "https://localhost:8080/"
    },
    "executionInfo": {
     "elapsed": 12,
     "status": "ok",
     "timestamp": 1628343827354,
     "user": {
      "displayName": "phonchi chung",
      "photoUrl": "https://lh3.googleusercontent.com/a-/AOh14GhRxL9y0Ae78wMRxbf60aXYoHK4g_6vYEy3yrLutg=s64",
      "userId": "13517391734500420886"
     },
     "user_tz": -480
    },
    "id": "bo70e38p1RCU",
    "outputId": "19c96288-b3e2-499b-ab4e-a82be2e3fa3e"
   },
   "outputs": [
    {
     "name": "stderr",
     "output_type": "stream",
     "text": [
      "100%|██████████| 8/8 [00:00<00:00, 1286.40it/s]\n"
     ]
    },
    {
     "data": {
      "text/plain": [
       "[3, 12, 21, 30, 39, 48, 57, 66]"
      ]
     },
     "execution_count": 27,
     "metadata": {
      "tags": []
     },
     "output_type": "execute_result"
    }
   ],
   "source": [
    "res = Parallel(n_jobs=4)(delayed(defs2.f)(x_s[i][0], x_s[i][1], x_s[i][2]) for i in tqdm(range(len(x_s))))\n",
    "res"
   ]
  },
  {
   "cell_type": "markdown",
   "metadata": {
    "id": "Dy1AZfdQ1RCU"
   },
   "source": [
    "Using thread"
   ]
  },
  {
   "cell_type": "code",
   "execution_count": null,
   "metadata": {
    "colab": {
     "base_uri": "https://localhost:8080/"
    },
    "executionInfo": {
     "elapsed": 292,
     "status": "ok",
     "timestamp": 1628343836892,
     "user": {
      "displayName": "phonchi chung",
      "photoUrl": "https://lh3.googleusercontent.com/a-/AOh14GhRxL9y0Ae78wMRxbf60aXYoHK4g_6vYEy3yrLutg=s64",
      "userId": "13517391734500420886"
     },
     "user_tz": -480
    },
    "id": "_eJu85wv1RCU",
    "outputId": "346cded6-0072-422c-a0b7-862c9a0e0fe8"
   },
   "outputs": [
    {
     "name": "stderr",
     "output_type": "stream",
     "text": [
      "100%|██████████| 8/8 [00:00<00:00, 985.68it/s]\n"
     ]
    },
    {
     "data": {
      "text/plain": [
       "[3, 12, 21, 30, 39, 48, 57, 66]"
      ]
     },
     "execution_count": 28,
     "metadata": {
      "tags": []
     },
     "output_type": "execute_result"
    }
   ],
   "source": [
    "res = Parallel(n_jobs=4, prefer=\"threads\")(delayed(defs2.f)(x_s[i][0], x_s[i][1], x_s[i][2]) for i in tqdm(range(len(x_s))))\n",
    "res"
   ]
  },
  {
   "cell_type": "markdown",
   "metadata": {
    "id": "3JbyccTp1RCU"
   },
   "source": [
    "MonteCarlo"
   ]
  },
  {
   "cell_type": "code",
   "execution_count": null,
   "metadata": {
    "colab": {
     "base_uri": "https://localhost:8080/"
    },
    "executionInfo": {
     "elapsed": 21610,
     "status": "ok",
     "timestamp": 1628343863453,
     "user": {
      "displayName": "phonchi chung",
      "photoUrl": "https://lh3.googleusercontent.com/a-/AOh14GhRxL9y0Ae78wMRxbf60aXYoHK4g_6vYEy3yrLutg=s64",
      "userId": "13517391734500420886"
     },
     "user_tz": -480
    },
    "id": "ILwZrpOx1RCU",
    "outputId": "d25d6b5e-1947-49b2-bc09-e1fec6fa2b31"
   },
   "outputs": [
    {
     "name": "stderr",
     "output_type": "stream",
     "text": [
      "100%|██████████| 10/10 [00:00<00:00, 15.19it/s]\n",
      "100%|██████████| 10/10 [00:00<00:00, 19.14it/s]\n",
      "100%|██████████| 10/10 [00:00<00:00, 19.13it/s]\n",
      "100%|██████████| 10/10 [00:00<00:00, 19.62it/s]\n",
      "100%|██████████| 10/10 [00:00<00:00, 19.11it/s]\n",
      "100%|██████████| 10/10 [00:00<00:00, 19.65it/s]\n"
     ]
    },
    {
     "name": "stdout",
     "output_type": "stream",
     "text": [
      "1 loop, best of 5: 3.51 s per loop\n"
     ]
    }
   ],
   "source": [
    "%%timeit\n",
    "res = Parallel(n_jobs=4, prefer=\"threads\")(delayed(defs3.monte_carlo_pi)(int(1e7)) for i in tqdm(range(10)))"
   ]
  },
  {
   "cell_type": "code",
   "execution_count": null,
   "metadata": {
    "colab": {
     "base_uri": "https://localhost:8080/"
    },
    "executionInfo": {
     "elapsed": 21849,
     "status": "ok",
     "timestamp": 1628343906531,
     "user": {
      "displayName": "phonchi chung",
      "photoUrl": "https://lh3.googleusercontent.com/a-/AOh14GhRxL9y0Ae78wMRxbf60aXYoHK4g_6vYEy3yrLutg=s64",
      "userId": "13517391734500420886"
     },
     "user_tz": -480
    },
    "id": "Ze62ar8D28Kq",
    "outputId": "b1d46ecf-49c6-477d-d24b-553333488796"
   },
   "outputs": [
    {
     "name": "stderr",
     "output_type": "stream",
     "text": [
      "100%|██████████| 10/10 [00:00<00:00, 11146.17it/s]\n",
      "100%|██████████| 10/10 [00:00<00:00, 21215.50it/s]\n",
      "100%|██████████| 10/10 [00:00<00:00, 24385.49it/s]\n",
      "100%|██████████| 10/10 [00:00<00:00, 26329.59it/s]\n",
      "100%|██████████| 10/10 [00:00<00:00, 25025.68it/s]\n",
      "100%|██████████| 10/10 [00:00<00:00, 18657.94it/s]\n"
     ]
    },
    {
     "name": "stdout",
     "output_type": "stream",
     "text": [
      "1 loop, best of 5: 3.53 s per loop\n"
     ]
    }
   ],
   "source": [
    "%%timeit\n",
    "res = Parallel(n_jobs=40, prefer=\"threads\")(delayed(defs3.monte_carlo_pi)(int(1e7)) for i in tqdm(range(10)))"
   ]
  },
  {
   "cell_type": "code",
   "execution_count": null,
   "metadata": {
    "colab": {
     "base_uri": "https://localhost:8080/"
    },
    "executionInfo": {
     "elapsed": 24745,
     "status": "ok",
     "timestamp": 1628344036347,
     "user": {
      "displayName": "phonchi chung",
      "photoUrl": "https://lh3.googleusercontent.com/a-/AOh14GhRxL9y0Ae78wMRxbf60aXYoHK4g_6vYEy3yrLutg=s64",
      "userId": "13517391734500420886"
     },
     "user_tz": -480
    },
    "id": "PBm6H7311RCV",
    "outputId": "2a076601-7f1f-4747-96f0-844e07733b7e"
   },
   "outputs": [
    {
     "name": "stderr",
     "output_type": "stream",
     "text": [
      "100%|██████████| 10/10 [00:04<00:00,  2.12it/s]\n",
      "100%|██████████| 10/10 [00:03<00:00,  3.32it/s]\n",
      "100%|██████████| 10/10 [00:03<00:00,  3.30it/s]\n",
      "100%|██████████| 10/10 [00:03<00:00,  3.33it/s]\n",
      "100%|██████████| 10/10 [00:03<00:00,  3.30it/s]\n",
      "100%|██████████| 10/10 [00:03<00:00,  3.33it/s]\n"
     ]
    },
    {
     "name": "stdout",
     "output_type": "stream",
     "text": [
      "1 loop, best of 5: 3.78 s per loop\n"
     ]
    }
   ],
   "source": [
    "%%timeit\n",
    "res = Parallel(n_jobs=2)(delayed(defs3.monte_carlo_pi)(int(1e7)) for i in tqdm(range(10)))"
   ]
  },
  {
   "cell_type": "code",
   "execution_count": null,
   "metadata": {
    "colab": {
     "base_uri": "https://localhost:8080/"
    },
    "executionInfo": {
     "elapsed": 36108,
     "status": "ok",
     "timestamp": 1628343977393,
     "user": {
      "displayName": "phonchi chung",
      "photoUrl": "https://lh3.googleusercontent.com/a-/AOh14GhRxL9y0Ae78wMRxbf60aXYoHK4g_6vYEy3yrLutg=s64",
      "userId": "13517391734500420886"
     },
     "user_tz": -480
    },
    "id": "ST8hfip83H46",
    "outputId": "b64c8885-0bce-45b5-84cc-6666fe1a3e2c"
   },
   "outputs": [
    {
     "name": "stderr",
     "output_type": "stream",
     "text": [
      "100%|██████████| 10/10 [00:04<00:00,  2.41it/s]\n",
      "100%|██████████| 10/10 [00:00<00:00, 1759.72it/s]\n",
      "100%|██████████| 10/10 [00:00<00:00, 3135.22it/s]\n",
      "100%|██████████| 10/10 [00:00<00:00, 1396.70it/s]\n",
      "100%|██████████| 10/10 [00:00<00:00, 2373.28it/s]\n",
      "100%|██████████| 10/10 [00:00<00:00, 4135.17it/s]\n"
     ]
    },
    {
     "name": "stdout",
     "output_type": "stream",
     "text": [
      "1 loop, best of 5: 4.78 s per loop\n"
     ]
    }
   ],
   "source": [
    "%%timeit\n",
    "res = Parallel(n_jobs=40)(delayed(defs3.monte_carlo_pi)(int(1e7)) for i in tqdm(range(10)))"
   ]
  },
  {
   "cell_type": "markdown",
   "metadata": {
    "id": "rsuiObt31RCV"
   },
   "source": [
    "- Scientific Python libraries such as numpy, `scipy`, `pandas` and `scikit-learn` often release the GIL in performance-critical code paths. It is therefore advised to always measure the speed of thread-based parallelism and use it when the GIL does not limit the scalability.\n",
    "- The thread-based approach can also ease debugging\n",
    "\n",
    "- Writing to shared memory requires careful coordination of processes, and many control and communication concepts are implemented in the multiprocessing library for this purpose, including semaphores, locks, barriers, etc. \n",
    "- Check share memory and reduction at https://milliams.com/courses/parallel_python/\n",
    "- Check Numba parallel features"
   ]
  },
  {
   "cell_type": "markdown",
   "metadata": {
    "id": "B4oNVpfN1RCV"
   },
   "source": [
    "## Laboratories"
   ]
  },
  {
   "cell_type": "code",
   "execution_count": 5,
   "metadata": {
    "executionInfo": {
     "elapsed": 11,
     "status": "ok",
     "timestamp": 1629280336303,
     "user": {
      "displayName": "思齊鍾",
      "photoUrl": "",
      "userId": "00591983406172857081"
     },
     "user_tz": -480
    },
    "id": "CYM1KJys1RCV"
   },
   "outputs": [],
   "source": [
    "# Baseline\n",
    "def cdist(xs, ys):\n",
    "    \"\"\"Returns pairwise distance between row vectors in xs and ys.\n",
    "    \n",
    "    xs has shape (m, p)\n",
    "    ys has shape (n, p)\n",
    "    \n",
    "    Return value has shape (m, n)    \n",
    "    \"\"\"\n",
    "    \n",
    "    m, p = xs.shape\n",
    "    n, p = ys.shape\n",
    "    \n",
    "    res = np.empty((m, n))\n",
    "    for i in range(m):\n",
    "        for j in range(n):\n",
    "            res[i, j] = np.sqrt(np.sum((ys[j] - xs[i])**2))\n",
    "    return res"
   ]
  },
  {
   "cell_type": "code",
   "execution_count": 6,
   "metadata": {
    "id": "fPO30Mae1RCV"
   },
   "outputs": [],
   "source": [
    "xs = np.arange(6).reshape(3,2).astype('float')\n",
    "ys = np.arange(4).reshape(2,2).astype('float')\n",
    "zs = cdist(xs, ys)"
   ]
  },
  {
   "cell_type": "code",
   "execution_count": 7,
   "metadata": {
    "colab": {
     "base_uri": "https://localhost:8080/"
    },
    "executionInfo": {
     "elapsed": 303,
     "status": "ok",
     "timestamp": 1628344047217,
     "user": {
      "displayName": "phonchi chung",
      "photoUrl": "https://lh3.googleusercontent.com/a-/AOh14GhRxL9y0Ae78wMRxbf60aXYoHK4g_6vYEy3yrLutg=s64",
      "userId": "13517391734500420886"
     },
     "user_tz": -480
    },
    "id": "lVUDwi6Y1RCW",
    "outputId": "ce153bd0-1d45-4f51-ba9b-f69e49ae0a8b"
   },
   "outputs": [
    {
     "data": {
      "text/plain": [
       "array([[0.        , 2.82842712],\n",
       "       [2.82842712, 0.        ],\n",
       "       [5.65685425, 2.82842712]])"
      ]
     },
     "execution_count": 7,
     "metadata": {},
     "output_type": "execute_result"
    }
   ],
   "source": [
    "cdist(xs, ys)"
   ]
  },
  {
   "cell_type": "code",
   "execution_count": 8,
   "metadata": {
    "colab": {
     "base_uri": "https://localhost:8080/"
    },
    "executionInfo": {
     "elapsed": 3,
     "status": "ok",
     "timestamp": 1628344047642,
     "user": {
      "displayName": "phonchi chung",
      "photoUrl": "https://lh3.googleusercontent.com/a-/AOh14GhRxL9y0Ae78wMRxbf60aXYoHK4g_6vYEy3yrLutg=s64",
      "userId": "13517391734500420886"
     },
     "user_tz": -480
    },
    "id": "8Z8g7-x51RCW",
    "outputId": "06f78933-411c-4791-b86a-b94868190d20"
   },
   "outputs": [
    {
     "data": {
      "text/plain": [
       "[array([[0., 1.]]), array([[2., 3.]]), array([[4., 5.]])]"
      ]
     },
     "execution_count": 8,
     "metadata": {},
     "output_type": "execute_result"
    }
   ],
   "source": [
    "np.split(xs, 3, 0)"
   ]
  },
  {
   "cell_type": "code",
   "execution_count": 9,
   "metadata": {
    "colab": {
     "base_uri": "https://localhost:8080/"
    },
    "executionInfo": {
     "elapsed": 6,
     "status": "ok",
     "timestamp": 1628344049111,
     "user": {
      "displayName": "phonchi chung",
      "photoUrl": "https://lh3.googleusercontent.com/a-/AOh14GhRxL9y0Ae78wMRxbf60aXYoHK4g_6vYEy3yrLutg=s64",
      "userId": "13517391734500420886"
     },
     "user_tz": -480
    },
    "id": "8f8jhx8q1RCW",
    "outputId": "7770cab3-af1a-40e0-d2f0-8127e44469ae"
   },
   "outputs": [
    {
     "data": {
      "text/plain": [
       "array([[0.        , 2.82842712],\n",
       "       [2.82842712, 0.        ],\n",
       "       [5.65685425, 2.82842712]])"
      ]
     },
     "execution_count": 9,
     "metadata": {},
     "output_type": "execute_result"
    }
   ],
   "source": [
    "res = np.concatenate([cdist(x, ys) for x in np.split(xs, 3, 0)])\n",
    "res"
   ]
  },
  {
   "cell_type": "code",
   "execution_count": 10,
   "metadata": {
    "executionInfo": {
     "elapsed": 558,
     "status": "ok",
     "timestamp": 1629280341670,
     "user": {
      "displayName": "思齊鍾",
      "photoUrl": "",
      "userId": "00591983406172857081"
     },
     "user_tz": -480
    },
    "id": "9IHcID171RCW"
   },
   "outputs": [],
   "source": [
    "m = 1000\n",
    "n = 1000\n",
    "p = 100\n",
    "\n",
    "X = np.random.random((m, p))\n",
    "Y = np.random.random((n, p))"
   ]
  },
  {
   "cell_type": "code",
   "execution_count": 11,
   "metadata": {
    "colab": {
     "base_uri": "https://localhost:8080/"
    },
    "executionInfo": {
     "elapsed": 58800,
     "status": "ok",
     "timestamp": 1628344113145,
     "user": {
      "displayName": "phonchi chung",
      "photoUrl": "https://lh3.googleusercontent.com/a-/AOh14GhRxL9y0Ae78wMRxbf60aXYoHK4g_6vYEy3yrLutg=s64",
      "userId": "13517391734500420886"
     },
     "user_tz": -480
    },
    "id": "JPoT5YF_1RCW",
    "outputId": "c304aa28-ef83-4b19-8f81-f5dad13b5a3f"
   },
   "outputs": [
    {
     "name": "stdout",
     "output_type": "stream",
     "text": [
      "6.84 s ± 263 ms per loop (mean ± std. dev. of 7 runs, 1 loop each)\n"
     ]
    }
   ],
   "source": [
    "%%timeit\n",
    "Z = cdist(X, Y)"
   ]
  },
  {
   "cell_type": "markdown",
   "metadata": {
    "id": "gBbwlBSR1RCW"
   },
   "source": [
    "### Using `multiprocessing`"
   ]
  },
  {
   "cell_type": "code",
   "execution_count": 12,
   "metadata": {
    "id": "G0uk4ZQV1RCW"
   },
   "outputs": [],
   "source": [
    "from multiprocessing import Pool"
   ]
  },
  {
   "cell_type": "code",
   "execution_count": 13,
   "metadata": {
    "colab": {
     "base_uri": "https://localhost:8080/"
    },
    "executionInfo": {
     "elapsed": 6,
     "status": "ok",
     "timestamp": 1628344113145,
     "user": {
      "displayName": "phonchi chung",
      "photoUrl": "https://lh3.googleusercontent.com/a-/AOh14GhRxL9y0Ae78wMRxbf60aXYoHK4g_6vYEy3yrLutg=s64",
      "userId": "13517391734500420886"
     },
     "user_tz": -480
    },
    "id": "56jofAGx1RCW",
    "outputId": "e11520ec-0ba8-4b0e-e110-36abe00a7991"
   },
   "outputs": [
    {
     "name": "stdout",
     "output_type": "stream",
     "text": [
      "Overwriting defs4.py\n"
     ]
    }
   ],
   "source": [
    "%%writefile defs4.py\n",
    "import numpy as np\n",
    "\n",
    "def cdist(xs, ys):\n",
    "    \"\"\"Returns pairwise distance between row vectors in xs and ys.\n",
    "    \n",
    "    xs has shape (m, p)\n",
    "    ys has shape (n, p)\n",
    "    \n",
    "    Return value has shape (m, n)    \n",
    "    \"\"\"\n",
    "    \n",
    "    m, p = xs.shape\n",
    "    n, p = ys.shape\n",
    "    \n",
    "    res = np.empty((m, n))\n",
    "    for i in range(m):\n",
    "        for j in range(n):\n",
    "            res[i, j] = np.sqrt(np.sum((ys[j] - xs[i])**2))\n",
    "    return res"
   ]
  },
  {
   "cell_type": "code",
   "execution_count": 14,
   "metadata": {
    "id": "sm2NlEk-1RCX"
   },
   "outputs": [],
   "source": [
    "import defs4"
   ]
  },
  {
   "cell_type": "code",
   "execution_count": 15,
   "metadata": {
    "colab": {
     "base_uri": "https://localhost:8080/"
    },
    "executionInfo": {
     "elapsed": 62493,
     "status": "ok",
     "timestamp": 1628344175634,
     "user": {
      "displayName": "phonchi chung",
      "photoUrl": "https://lh3.googleusercontent.com/a-/AOh14GhRxL9y0Ae78wMRxbf60aXYoHK4g_6vYEy3yrLutg=s64",
      "userId": "13517391734500420886"
     },
     "user_tz": -480
    },
    "id": "tCGFaN3Z1RCX",
    "outputId": "9296ae80-9e08-4dbc-f93f-c9600d41673d"
   },
   "outputs": [
    {
     "name": "stdout",
     "output_type": "stream",
     "text": [
      "3.41 s ± 266 ms per loop (mean ± std. dev. of 7 runs, 1 loop each)\n"
     ]
    }
   ],
   "source": [
    "%%timeit\n",
    "with Pool(processes=4) as p:\n",
    "    Z1 = p.starmap(defs4.cdist, [(X_, Y) for X_ in np.split(X, 100, 0)])\n",
    "    Z1 = np.concatenate(Z1)"
   ]
  },
  {
   "cell_type": "code",
   "execution_count": 16,
   "metadata": {
    "colab": {
     "base_uri": "https://localhost:8080/"
    },
    "executionInfo": {
     "elapsed": 20111,
     "status": "ok",
     "timestamp": 1628344195737,
     "user": {
      "displayName": "phonchi chung",
      "photoUrl": "https://lh3.googleusercontent.com/a-/AOh14GhRxL9y0Ae78wMRxbf60aXYoHK4g_6vYEy3yrLutg=s64",
      "userId": "13517391734500420886"
     },
     "user_tz": -480
    },
    "id": "XCnCK3Uk1RCX",
    "outputId": "73a86aa5-9a8d-4798-8737-33bd3ef703e8"
   },
   "outputs": [
    {
     "data": {
      "text/plain": [
       "True"
      ]
     },
     "execution_count": 16,
     "metadata": {},
     "output_type": "execute_result"
    }
   ],
   "source": [
    "Z = cdist(X, Y)\n",
    "\n",
    "with Pool(processes=4) as p:\n",
    "    Z1 = p.starmap(defs4.cdist, [(X_, Y) for X_ in np.split(X, 100, 0)])\n",
    "    Z1 = np.concatenate(Z1)\n",
    "\n",
    "np.allclose(Z, Z1)"
   ]
  },
  {
   "cell_type": "markdown",
   "metadata": {
    "id": "fx7tX-Po1RCX"
   },
   "source": [
    "### Using threads\n",
    "\n",
    "Note that there is no gain with using multiple threads for computationally intensive tasks because of the GIL."
   ]
  },
  {
   "cell_type": "code",
   "execution_count": 17,
   "metadata": {
    "colab": {
     "base_uri": "https://localhost:8080/"
    },
    "executionInfo": {
     "elapsed": 59658,
     "status": "ok",
     "timestamp": 1628344255385,
     "user": {
      "displayName": "phonchi chung",
      "photoUrl": "https://lh3.googleusercontent.com/a-/AOh14GhRxL9y0Ae78wMRxbf60aXYoHK4g_6vYEy3yrLutg=s64",
      "userId": "13517391734500420886"
     },
     "user_tz": -480
    },
    "id": "c5yWN2Vd1RCX",
    "outputId": "59042111-aba6-4f65-8e84-be2784baa3b8"
   },
   "outputs": [
    {
     "name": "stdout",
     "output_type": "stream",
     "text": [
      "7.76 s ± 221 ms per loop (mean ± std. dev. of 7 runs, 1 loop each)\n"
     ]
    }
   ],
   "source": [
    "%%timeit\n",
    "with ThreadPool(processes=4) as pool:\n",
    "    Z2 = list(pool.starmap(defs4.cdist, [(X_, Y) for X_ in np.split(X, 100, 0)]))\n",
    "    Z2 = np.concatenate(Z2)"
   ]
  },
  {
   "cell_type": "markdown",
   "metadata": {
    "id": "BR4ONBj_1RCX"
   },
   "source": [
    "Check"
   ]
  },
  {
   "cell_type": "code",
   "execution_count": 18,
   "metadata": {
    "colab": {
     "base_uri": "https://localhost:8080/"
    },
    "executionInfo": {
     "elapsed": 10165,
     "status": "ok",
     "timestamp": 1628344265547,
     "user": {
      "displayName": "phonchi chung",
      "photoUrl": "https://lh3.googleusercontent.com/a-/AOh14GhRxL9y0Ae78wMRxbf60aXYoHK4g_6vYEy3yrLutg=s64",
      "userId": "13517391734500420886"
     },
     "user_tz": -480
    },
    "id": "AFDByZQG1RCY",
    "outputId": "8a6d2a9b-2ea6-4c7f-cf54-d45408cdeebd"
   },
   "outputs": [
    {
     "data": {
      "text/plain": [
       "True"
      ]
     },
     "execution_count": 18,
     "metadata": {},
     "output_type": "execute_result"
    }
   ],
   "source": [
    "with ThreadPool(processes=4) as pool:\n",
    "    Z2 = list(pool.starmap(defs4.cdist, [(X_, Y) for X_ in np.split(X, 100, 0)]))\n",
    "    Z2 = np.concatenate(Z2)\n",
    "\n",
    "np.allclose(Z, Z2)"
   ]
  },
  {
   "cell_type": "markdown",
   "metadata": {
    "id": "L5QoDCUf1RCY"
   },
   "source": [
    "## Exercise 3: \n",
    "- Calculate the pairwise euclidean distance between two matrices X and Y using `joblib` and report the speedup (or speed down) over baseline\n"
   ]
  },
  {
   "cell_type": "code",
   "execution_count": 21,
   "metadata": {},
   "outputs": [
    {
     "name": "stderr",
     "output_type": "stream",
     "text": [
      "100%|████████████████████████████████████████████████████████████████████████████████| 100/100 [00:02<00:00, 42.12it/s]\n"
     ]
    }
   ],
   "source": [
    "Z3 = Parallel(n_jobs=4)(delayed(cdist)(X_, Y) for X_ in tqdm(np.split(X, 100, 0)))\n",
    "Z3 = np.concatenate(Z3)"
   ]
  },
  {
   "cell_type": "code",
   "execution_count": 22,
   "metadata": {},
   "outputs": [
    {
     "data": {
      "text/plain": [
       "True"
      ]
     },
     "execution_count": 22,
     "metadata": {},
     "output_type": "execute_result"
    }
   ],
   "source": [
    "np.allclose(Z, Z3)"
   ]
  },
  {
   "cell_type": "code",
   "execution_count": 19,
   "metadata": {
    "id": "cZzMovYvn_K3"
   },
   "outputs": [
    {
     "name": "stderr",
     "output_type": "stream",
     "text": [
      "100%|████████████████████████████████████████████████████████████████████████████████| 100/100 [00:04<00:00, 21.34it/s]\n",
      "100%|████████████████████████████████████████████████████████████████████████████████| 100/100 [00:03<00:00, 30.60it/s]\n",
      "100%|████████████████████████████████████████████████████████████████████████████████| 100/100 [00:03<00:00, 30.55it/s]\n",
      "100%|████████████████████████████████████████████████████████████████████████████████| 100/100 [00:03<00:00, 31.16it/s]\n",
      "100%|████████████████████████████████████████████████████████████████████████████████| 100/100 [00:03<00:00, 30.67it/s]\n",
      "100%|████████████████████████████████████████████████████████████████████████████████| 100/100 [00:03<00:00, 30.93it/s]\n",
      "100%|████████████████████████████████████████████████████████████████████████████████| 100/100 [00:03<00:00, 28.30it/s]\n",
      "100%|████████████████████████████████████████████████████████████████████████████████| 100/100 [00:03<00:00, 30.71it/s]\n"
     ]
    },
    {
     "name": "stdout",
     "output_type": "stream",
     "text": [
      "3.87 s ± 148 ms per loop (mean ± std. dev. of 7 runs, 1 loop each)\n"
     ]
    }
   ],
   "source": [
    "%%timeit\n",
    "## Solution here\n",
    "Z3 = Parallel(n_jobs=4)(delayed(cdist)(X_, Y) for X_ in tqdm(np.split(X, 100, 0)))\n",
    "Z3 = np.concatenate(Z3)"
   ]
  },
  {
   "cell_type": "markdown",
   "metadata": {},
   "source": [
    "The speedup is 6.84/3.87~ 1.8 times faster"
   ]
  },
  {
   "cell_type": "markdown",
   "metadata": {
    "id": "lV3fSXe91RCZ"
   },
   "source": [
    "## References\n",
    "- https://people.duke.edu/~ccc14/sta-663-2018/notebooks/S14A_Parallel_Programming_Introduction.html - A series of great introduction for HPC\n",
    "- https://blog.floydhub.com/multiprocessing-vs-threading-in-python-what-every-data-scientist-needs-to-know/ - A series of great discussion on multiprocessing and multithreading\n",
    "- https://www.maxlist.xyz/2020/03/15/gil-thread-safe-atomic/ - The concept of thread-safe\n",
    "- https://joblib.readthedocs.io/en/latest/parallel.html - A good guide for using `joblib`"
   ]
  }
 ],
 "metadata": {
  "colab": {
   "collapsed_sections": [],
   "name": "03_MultiCore_Joblib.ipynb",
   "provenance": []
  },
  "kernelspec": {
   "display_name": "Python 3",
   "language": "python",
   "name": "python3"
  },
  "language_info": {
   "codemirror_mode": {
    "name": "ipython",
    "version": 3
   },
   "file_extension": ".py",
   "mimetype": "text/x-python",
   "name": "python",
   "nbconvert_exporter": "python",
   "pygments_lexer": "ipython3",
   "version": "3.8.3"
  },
  "nbdime-conflicts": {
   "local_diff": [
    {
     "diff": [
      {
       "diff": [
        {
         "key": 0,
         "length": 1,
         "op": "removerange"
        }
       ],
       "key": "version",
       "op": "patch"
      }
     ],
     "key": "language_info",
     "op": "patch"
    }
   ],
   "remote_diff": [
    {
     "diff": [
      {
       "diff": [
        {
         "diff": [
          {
           "key": 2,
           "op": "addrange",
           "valuelist": "7"
          },
          {
           "key": 2,
           "length": 1,
           "op": "removerange"
          }
         ],
         "key": 0,
         "op": "patch"
        }
       ],
       "key": "version",
       "op": "patch"
      }
     ],
     "key": "language_info",
     "op": "patch"
    }
   ]
  }
 },
 "nbformat": 4,
 "nbformat_minor": 4
}
