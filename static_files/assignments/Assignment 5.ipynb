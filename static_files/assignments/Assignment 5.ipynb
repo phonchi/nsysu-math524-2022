{
 "cells": [
  {
   "cell_type": "markdown",
   "metadata": {
    "id": "XsMVgoYrbd0m"
   },
   "source": [
    "# Chapter 5 - Resampling Methods Exercise"
   ]
  },
  {
   "cell_type": "markdown",
   "metadata": {
    "id": "h7w2vRTAk2HA"
   },
   "source": [
    "#### Student ID:\n",
    "\n",
    "#### Name:"
   ]
  },
  {
   "cell_type": "markdown",
   "metadata": {
    "id": "7GTYMFANbd0t"
   },
   "source": [
    "## Conceptual"
   ]
  },
  {
   "cell_type": "markdown",
   "metadata": {
    "id": "Z_99BKJubd0u"
   },
   "source": [
    "### Q1: We now review bootstrap method."
   ]
  },
  {
   "cell_type": "markdown",
   "metadata": {
    "id": "PUiktvyGF7dp"
   },
   "source": [
    "(a) Assume that we obtain a simple random sample (sample without replacement) from a set of n observation with sample size being $m$. What is the probability that the first sampled observation is *not* the $j$th observation from the original set? What is the probability that neither the first nor the second sampled observation is the $j$th observation from the original set?"
   ]
  },
  {
   "cell_type": "markdown",
   "metadata": {
    "id": "Ia0b99CpnQRW"
   },
   "source": [
    "> Ans:   "
   ]
  },
  {
   "cell_type": "markdown",
   "metadata": {
    "id": "d9z_hX-AtWTm"
   },
   "source": [
    "(b) Assume that we obtain a bootstrap sample from a set of n observation. What is the probability that the first bootstrap observation is *not* the $j$th observation from the original set? What is the probability that neither the first nor the second bootstrap observation is the $j$th observation from the original set?"
   ]
  },
  {
   "cell_type": "markdown",
   "metadata": {
    "id": "wDn7akjGtgGq"
   },
   "source": [
    "> Ans:   "
   ]
  },
  {
   "cell_type": "markdown",
   "metadata": {
    "id": "t29ypB3Otknp"
   },
   "source": [
    "(c) Which sampling method is used to find a random subset from the data sample, simple random sample or bootstrap sample? Which sampling method is used to find a new random sample that approximate the true population, simple random sample or bootstrap sample?"
   ]
  },
  {
   "cell_type": "markdown",
   "metadata": {
    "id": "RVtP6dKotmgX"
   },
   "source": [
    "> Ans:  "
   ]
  },
  {
   "cell_type": "markdown",
   "metadata": {
    "id": "t29ypB3Otknp"
   },
   "source": [
    "(d) If we obtain a bootstrap sample from a set of n observation, what is the probability that the $j$th observation is *not* in the bootstrap sample?"
   ]
  },
  {
   "cell_type": "markdown",
   "metadata": {
    "id": "RVtP6dKotmgX"
   },
   "source": [
    "> Ans:  "
   ]
  },
  {
   "cell_type": "markdown",
   "metadata": {
    "id": "t29ypB3Otknp"
   },
   "source": [
    "(e) If we obtain a bootstrap sample from a extremely large set of observation, what is the probability that the $j$th observation is in the bootstrap sample? Write the probability using $1$ and $e$. (Hint: Something related to $e^{-1}$.)"
   ]
  },
  {
   "cell_type": "markdown",
   "metadata": {
    "id": "RVtP6dKotmgX"
   },
   "source": [
    "> Ans:  "
   ]
  },
  {
   "cell_type": "markdown",
   "metadata": {
    "id": "do66Q4etbd0u"
   },
   "source": [
    "### Q2: We now review cross-validation."
   ]
  },
  {
   "cell_type": "markdown",
   "metadata": {},
   "source": [
    "Two types of cross-validation can be distinguished: exhaustive and non-exhaustive cross-validation.\n",
    "Exhaustive cross-validation methods refer to methods that try all possible ways to divide the original sample into a training and a validation set, while non-exhaustive cross validation methods try only several possible ways."
   ]
  },
  {
   "cell_type": "markdown",
   "metadata": {},
   "source": [
    "(a) For validation set approach (holdout method), k-fold, and LOOCV, which of the cross-validation method are exhaustive?"
   ]
  },
  {
   "cell_type": "markdown",
   "metadata": {
    "id": "XRJNcKMr3BYD"
   },
   "source": [
    "> Ans:  "
   ]
  },
  {
   "cell_type": "markdown",
   "metadata": {
    "id": "xJW0nNb3mPQB"
   },
   "source": [
    "(b) When we implement k-fold cross-validation, how many non-overlapping equal parts do we need to devided into?"
   ]
  },
  {
   "cell_type": "markdown",
   "metadata": {
    "id": "XRJNcKMr3BYD"
   },
   "source": [
    "> Ans:  "
   ]
  },
  {
   "cell_type": "markdown",
   "metadata": {
    "id": "TGOiKPNf3Imu"
   },
   "source": [
    "(c) Which of the cross-validation is the fastest and which is the slowest between validation set approach, k-fold, and LOOCV?"
   ]
  },
  {
   "cell_type": "markdown",
   "metadata": {
    "id": "9G95F9gz3K2Z"
   },
   "source": [
    "> Ans:  "
   ]
  },
  {
   "cell_type": "markdown",
   "metadata": {},
   "source": [
    "(d) Which of the cross-validation may tends to overestimate the test error, k-fold or validation set approach?"
   ]
  },
  {
   "cell_type": "markdown",
   "metadata": {
    "id": "NhQSd-GH3UgY"
   },
   "source": [
    " \n",
    "> Ans:  "
   ]
  },
  {
   "cell_type": "markdown",
   "metadata": {},
   "source": [
    "(e) Which of the cross-validation has less bias but more variance, validation set approach or LOOCV?"
   ]
  },
  {
   "cell_type": "markdown",
   "metadata": {
    "id": "NhQSd-GH3UgY"
   },
   "source": [
    " \n",
    "> Ans:  "
   ]
  },
  {
   "cell_type": "markdown",
   "metadata": {
    "id": "7fqDp0D0bd0w"
   },
   "source": [
    "## Applied"
   ]
  },
  {
   "cell_type": "markdown",
   "metadata": {
    "id": "mGJk_tAVbd0v"
   },
   "source": [
    "### Q3: We will now perform cross-validation on a simulated data set."
   ]
  },
  {
   "cell_type": "markdown",
   "metadata": {
    "id": "cx-kPT3E6LDV"
   },
   "source": [
    "(a) Generate a simulated data set as follows:"
   ]
  },
  {
   "cell_type": "code",
   "execution_count": null,
   "metadata": {
    "id": "cgCZ-RfR7OV6",
    "scrolled": true
   },
   "outputs": [],
   "source": [
    "import numpy as np\n",
    "import matplotlib.pyplot as plt\n",
    "\n",
    "np.random.seed(2)\n",
    "\n",
    "x = np.sort(np.random.normal(size=1000))\n",
    "y = 3*x + 4*x**2 + np.random.normal(size=1000)\n",
    "x = x.reshape(-1,1)\n",
    "plt.scatter(x, y)"
   ]
  },
  {
   "cell_type": "markdown",
   "metadata": {},
   "source": [
    "Write out the model used to generate the data in equation form."
   ]
  },
  {
   "cell_type": "markdown",
   "metadata": {
    "id": "NhQSd-GH3UgY"
   },
   "source": [
    " \n",
    "> Ans:  "
   ]
  },
  {
   "cell_type": "markdown",
   "metadata": {
    "id": "dzU3fj-Iolqp"
   },
   "source": [
    "(b) Compute the $\\operatorname{LOOCV}$ errors from the following four models using least squares:\n",
    "\n",
    "> 1. Y = $\\beta_0+\\beta_1X+\\epsilon$<br>\n",
    "> 2. Y = $\\beta_0+\\beta_1X+\\beta_2X^2+\\epsilon$<br>\n",
    "> 3. Y = $\\beta_0+\\beta_1X+\\beta_2X^2+\\beta_3X^3+\\epsilon$<br>\n",
    "> 4. Y = $\\beta_0+\\beta_1X+\\beta_2X^2+\\beta_3X^3+\\beta_4X^4+\\epsilon$.\n",
    "\n",
    "*Note that you can only modify code that have been underlined.*"
   ]
  },
  {
   "cell_type": "code",
   "execution_count": null,
   "metadata": {},
   "outputs": [],
   "source": [
    "from sklearn.linear_model import LinearRegression\n",
    "from sklearn.preprocessing import PolynomialFeatures\n",
    "# __________You_can_use_whatever_package_you_need__________\n",
    "# cross_validate, cross_val_score, or LeaveOneOut in sklearn.model_selection is recommended.\n",
    "# sm or smf is available if you do not like sklearn.\n",
    "\n",
    "np.random.seed(42)\n",
    "\n",
    "for i in range(1, 4+1): # i is the number of models\n",
    "    # ________________________________________\n",
    "    # ________________________________________\n",
    "    # _______________Your_code________________\n",
    "    # ________________________________________\n",
    "    # ________________________________________\n",
    "    \n",
    "    print('For the model {} , MSE is {}'.format(i, error))"
   ]
  },
  {
   "cell_type": "markdown",
   "metadata": {
    "id": "M6yFx2DfCa-l"
   },
   "source": [
    "(c) Repeat (b) using another random seed. Are your results the same as what you got in (c)? Why?  \n",
    "\n",
    "*Note that the code that have been underlined may be the same as the code in* (b)*.*"
   ]
  },
  {
   "cell_type": "code",
   "execution_count": null,
   "metadata": {},
   "outputs": [],
   "source": [
    "np.random.seed(1)\n",
    "\n",
    "for i in range(1, 4+1): # i is the number of models\n",
    "    # ________________________________________\n",
    "    # ________________________________________\n",
    "    # _______________Your_code________________\n",
    "    # ________________________________________\n",
    "    # ________________________________________\n",
    "    \n",
    "    print('For the model {} , MSE is {}'.format(i, error))"
   ]
  },
  {
   "cell_type": "markdown",
   "metadata": {
    "id": "UEcPYkW0Cbvp"
   },
   "source": [
    "> Ans:  "
   ]
  },
  {
   "cell_type": "markdown",
   "metadata": {
    "id": "H8JSoLAiCcHK"
   },
   "source": [
    "(d) Which of the models in (b) had the smallest $\\operatorname{LOOCV}$ error? Is this what you expected?"
   ]
  },
  {
   "cell_type": "markdown",
   "metadata": {
    "id": "CjJ0c5K0Chnz"
   },
   "source": [
    "> Ans:  "
   ]
  },
  {
   "cell_type": "markdown",
   "metadata": {},
   "source": [
    "(e) <span style=\"color:red\">Bonus(加分題)</span>. Compute the errors from the model with the smallest LOOCV error in (b) using K-fold with shuffle and without shuffle. Comment on what you found."
   ]
  },
  {
   "cell_type": "code",
   "execution_count": null,
   "metadata": {},
   "outputs": [],
   "source": []
  },
  {
   "cell_type": "markdown",
   "metadata": {
    "id": "CjJ0c5K0Chnz"
   },
   "source": [
    "> Ans:  "
   ]
  },
  {
   "cell_type": "markdown",
   "metadata": {
    "id": "53m2K81WEjNo"
   },
   "source": [
    "### Q4: 寫一個可以 bootstrap 的函數，<span style=\"color:red\">禁止使用套件中現成的 bootstrap function</span> 。"
   ]
  },
  {
   "cell_type": "markdown",
   "metadata": {},
   "source": [
    "這題的用意是讓大家知道 bootstrap sample 以及 bootstrap estimate 是怎麼得到的，之後便可用得到的 bootstrap estimate 計算 bootstrap statistics 或 bootstrap estimators。這題滿分條件是下面的 block 沒跑錯誤，基本上函數定義下面那堆程式碼只是讓大家方便檢查程式哪裡有錯的。  \n",
    "*Note that you can only modify code that have been underlined.*"
   ]
  },
  {
   "cell_type": "code",
   "execution_count": null,
   "metadata": {
    "id": "yVq12Q3VEpGh",
    "scrolled": true
   },
   "outputs": [],
   "source": [
    "# __________You_can_use_whatever_package_you_need__________\n",
    "\n",
    "def bootstrap(data, function, n_resamples=999):\n",
    "    \"\"\"\n",
    "    Give a bootstrap sample\n",
    "\n",
    "    Parameters\n",
    "    ----------\n",
    "    data : sequence of array-like\n",
    "        Each element of data is a sample from an underlying distribution.\n",
    "    statistic : callable\n",
    "        Statistic or estimator for each bootstrap samples to be calculated.\n",
    "    n_resamples : int, optional\n",
    "        The number of resamples performed to form the bootstrap distribution of the statistic or estimator.\n",
    "\n",
    "    Returns\n",
    "    -------\n",
    "    data : list\n",
    "        A list that contain all bootstrap estimates.\n",
    "\n",
    "    \"\"\"\n",
    "    if type(n_resamples)!=int:\n",
    "        raise\n",
    "\n",
    "    # ________________________________________\n",
    "    # ________________________________________\n",
    "    # _______________Your_code________________\n",
    "    # ________________________________________\n",
    "    # ________________________________________\n",
    "    return # _________________________________\n",
    "\n",
    "\n",
    "np.random.seed(4)\n",
    "\n",
    "x1 = [[i, chr(i+97)] for i in range(26)]\n",
    "x1.extend([[14, chr(14+97)] for i in range(26)])\n",
    "x2 = np.array(x1)\n",
    "x3 = pd.DataFrame(x1, columns=['x','y'])\n",
    "\n",
    "\n",
    "def mode(data):\n",
    "    return data[np.unique(data[0], return_counts=True)[1].argmax()]\n",
    "\n",
    "\n",
    "def test_function1(position):\n",
    "    def the_j_word(data):\n",
    "        return data[position][1]\n",
    "    return the_j_word\n",
    "\n",
    "\n",
    "def test_function2(data):\n",
    "    return mode(data)[1]\n",
    "\n",
    "\n",
    "def test_function3(data):\n",
    "    return data.sample(1)['y']\n",
    "\n",
    "\n",
    "print(mode(bootstrap(x1, test_function1(3), n_resamples=999)))\n",
    "print(mode(bootstrap(x2, test_function2, n_resamples=999)))\n",
    "print(mode(bootstrap(x3, test_function3, n_resamples=999)))"
   ]
  },
  {
   "cell_type": "markdown",
   "metadata": {},
   "source": [
    "提示: 使用 sklearn.utils 的 resample 可以避免 resample 上的麻煩問題。  \n",
    "\n",
    "random 套件的 choices 會使物件格式會跑掉，而且使用在 pandas 物件會出問題。  \n",
    "np.random.choice 只能用在 1-d array 上。  \n",
    "pd.DataFrame.sample 或 pandas.Series.sample 是只有 pandas 物件才有的 classmethod。  \n",
    "生成亂數再用 indices 索引的方法適用於 numpy，但對 pandas 便不適用。因為 pandas 的數值索引是用 data.iloc。"
   ]
  },
  {
   "cell_type": "code",
   "execution_count": 1,
   "metadata": {},
   "outputs": [
    {
     "name": "stdout",
     "output_type": "stream",
     "text": [
      "[[0, 'a'], [1, 'b'], [2, 'c'], [3, 'd']] <class 'list'>\n",
      "[['0' 'a']\n",
      " ['1' 'b']\n",
      " ['2' 'c']\n",
      " ['3' 'd']] <class 'numpy.ndarray'>\n",
      "   x  y\n",
      "0  0  a\n",
      "1  1  b\n",
      "2  2  c\n",
      "3  3  d <class 'pandas.core.frame.DataFrame'>\n"
     ]
    }
   ],
   "source": [
    "import numpy as np\n",
    "import pandas as pd\n",
    "import random\n",
    "from sklearn.utils import resample\n",
    "\n",
    "x1 = [[i, chr(97+i)] for i in range(4)]\n",
    "x2 = np.array(x1)\n",
    "x3 = pd.DataFrame(x1, columns=['x','y'])\n",
    "\n",
    "\n",
    "def print_data_and_type(data):\n",
    "    print(data, type(data))\n",
    "\n",
    "    \n",
    "print_data_and_type(x1)\n",
    "print_data_and_type(x2)\n",
    "print_data_and_type(x3)"
   ]
  },
  {
   "cell_type": "code",
   "execution_count": 2,
   "metadata": {},
   "outputs": [
    {
     "name": "stdout",
     "output_type": "stream",
     "text": [
      "[array(['2', 'c'], dtype='<U11'), array(['2', 'c'], dtype='<U11'), array(['0', 'a'], dtype='<U11'), array(['0', 'a'], dtype='<U11'), array(['2', 'c'], dtype='<U11'), array(['1', 'b'], dtype='<U11'), array(['1', 'b'], dtype='<U11'), array(['0', 'a'], dtype='<U11'), array(['0', 'a'], dtype='<U11'), array(['3', 'd'], dtype='<U11')] <class 'list'>\n"
     ]
    }
   ],
   "source": [
    "print_data_and_type(random.choices(x2, k=10))"
   ]
  },
  {
   "cell_type": "code",
   "execution_count": 3,
   "metadata": {},
   "outputs": [
    {
     "ename": "ValueError",
     "evalue": "a must be 1-dimensional",
     "output_type": "error",
     "traceback": [
      "\u001b[1;31m---------------------------------------------------------------------------\u001b[0m",
      "\u001b[1;31mValueError\u001b[0m                                Traceback (most recent call last)",
      "\u001b[1;32m~\\AppData\\Local\\Temp/ipykernel_11448/2699959573.py\u001b[0m in \u001b[0;36m<module>\u001b[1;34m\u001b[0m\n\u001b[1;32m----> 1\u001b[1;33m \u001b[0mprint_data_and_type\u001b[0m\u001b[1;33m(\u001b[0m\u001b[0mnp\u001b[0m\u001b[1;33m.\u001b[0m\u001b[0mrandom\u001b[0m\u001b[1;33m.\u001b[0m\u001b[0mchoice\u001b[0m\u001b[1;33m(\u001b[0m\u001b[0mx1\u001b[0m\u001b[1;33m,\u001b[0m \u001b[0msize\u001b[0m\u001b[1;33m=\u001b[0m\u001b[1;36m10\u001b[0m\u001b[1;33m,\u001b[0m \u001b[0mreplace\u001b[0m\u001b[1;33m=\u001b[0m\u001b[1;32mTrue\u001b[0m\u001b[1;33m)\u001b[0m\u001b[1;33m)\u001b[0m\u001b[1;33m\u001b[0m\u001b[1;33m\u001b[0m\u001b[0m\n\u001b[0m",
      "\u001b[1;32mmtrand.pyx\u001b[0m in \u001b[0;36mnumpy.random.mtrand.RandomState.choice\u001b[1;34m()\u001b[0m\n",
      "\u001b[1;31mValueError\u001b[0m: a must be 1-dimensional"
     ]
    }
   ],
   "source": [
    "print_data_and_type(np.random.choice(x1, size=10, replace=True))"
   ]
  },
  {
   "cell_type": "code",
   "execution_count": 4,
   "metadata": {},
   "outputs": [
    {
     "ename": "AttributeError",
     "evalue": "'list' object has no attribute 'sample'",
     "output_type": "error",
     "traceback": [
      "\u001b[1;31m---------------------------------------------------------------------------\u001b[0m",
      "\u001b[1;31mAttributeError\u001b[0m                            Traceback (most recent call last)",
      "\u001b[1;32m~\\AppData\\Local\\Temp/ipykernel_11448/1797899848.py\u001b[0m in \u001b[0;36m<module>\u001b[1;34m\u001b[0m\n\u001b[1;32m----> 1\u001b[1;33m \u001b[0mx1\u001b[0m\u001b[1;33m.\u001b[0m\u001b[0msample\u001b[0m\u001b[1;33m\u001b[0m\u001b[1;33m\u001b[0m\u001b[0m\n\u001b[0m",
      "\u001b[1;31mAttributeError\u001b[0m: 'list' object has no attribute 'sample'"
     ]
    }
   ],
   "source": [
    "x1.sample"
   ]
  },
  {
   "cell_type": "code",
   "execution_count": 5,
   "metadata": {},
   "outputs": [
    {
     "name": "stdout",
     "output_type": "stream",
     "text": [
      "[[2, 'c'], [0, 'a'], [3, 'd'], [1, 'b'], [2, 'c'], [0, 'a'], [0, 'a'], [1, 'b'], [3, 'd'], [0, 'a']] <class 'list'>\n",
      "[['3' 'd']\n",
      " ['1' 'b']\n",
      " ['0' 'a']\n",
      " ['2' 'c']\n",
      " ['2' 'c']\n",
      " ['0' 'a']\n",
      " ['2' 'c']\n",
      " ['2' 'c']\n",
      " ['3' 'd']\n",
      " ['1' 'b']] <class 'numpy.ndarray'>\n",
      "   x  y\n",
      "0  0  a\n",
      "1  1  b\n",
      "3  3  d\n",
      "1  1  b\n",
      "3  3  d\n",
      "0  0  a\n",
      "1  1  b\n",
      "1  1  b\n",
      "3  3  d\n",
      "0  0  a <class 'pandas.core.frame.DataFrame'>\n"
     ]
    }
   ],
   "source": [
    "print_data_and_type(resample(x1, n_samples=10, replace=True))\n",
    "print_data_and_type(resample(x2, n_samples=10, replace=True))\n",
    "print_data_and_type(resample(x3, n_samples=10, replace=True))"
   ]
  }
 ],
 "metadata": {
  "colab": {
   "collapsed_sections": [],
   "provenance": []
  },
  "kernelspec": {
   "display_name": "Python 3 (ipykernel)",
   "language": "python",
   "name": "python3"
  },
  "language_info": {
   "codemirror_mode": {
    "name": "ipython",
    "version": 3
   },
   "file_extension": ".py",
   "mimetype": "text/x-python",
   "name": "python",
   "nbconvert_exporter": "python",
   "pygments_lexer": "ipython3",
   "version": "3.8.12"
  }
 },
 "nbformat": 4,
 "nbformat_minor": 1
}
