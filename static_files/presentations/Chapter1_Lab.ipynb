{
  "nbformat": 4,
  "nbformat_minor": 0,
  "metadata": {
    "kernelspec": {
      "display_name": "Python 3",
      "language": "python",
      "name": "python3"
    },
    "language_info": {
      "codemirror_mode": {
        "name": "ipython",
        "version": 3
      },
      "file_extension": ".py",
      "mimetype": "text/x-python",
      "name": "python",
      "nbconvert_exporter": "python",
      "pygments_lexer": "ipython3",
      "version": "3.8.8"
    },
    "colab": {
      "provenance": [],
      "collapsed_sections": []
    }
  },
  "cells": [
    {
      "cell_type": "markdown",
      "metadata": {
        "id": "uQuNWtuW4JFF"
      },
      "source": [
        "# Chapter 1 - Introduction"
      ]
    },
    {
      "cell_type": "code",
      "metadata": {
        "id": "zZCxnmAo4JFI"
      },
      "source": [
        "import pandas as pd\n",
        "import numpy as np\n",
        "import matplotlib.pyplot as plt\n",
        "import matplotlib as mpl\n",
        "import seaborn as sns #Samuel Norman Seaborn\n",
        "from sklearn.preprocessing import scale\n",
        "from sklearn.discriminant_analysis import QuadraticDiscriminantAnalysis\n",
        "from sklearn.decomposition import PCA\n",
        "\n",
        "%matplotlib inline\n",
        "plt.style.use('seaborn-white')\n",
        "sns.set_context(\"notebook\", font_scale=1.5, rc={\"lines.linewidth\": 2.5})"
      ],
      "execution_count": null,
      "outputs": []
    },
    {
      "cell_type": "markdown",
      "metadata": {
        "id": "0y9ovLJJ4JFJ"
      },
      "source": [
        "`Python` is a general-purpose language with statistics modules. When it comes to building complex analysis pipelines that mix statistics with e.g. image analysis, text mining, or control of a physical experiment, the richness of `Python` is an invaluable asset"
      ]
    },
    {
      "cell_type": "markdown",
      "metadata": {
        "id": "gljdXeX54JFK"
      },
      "source": [
        "## Pandas"
      ]
    },
    {
      "cell_type": "markdown",
      "metadata": {
        "id": "II0gEVSr4JFK"
      },
      "source": [
        "### Constructing data"
      ]
    },
    {
      "cell_type": "markdown",
      "metadata": {
        "id": "3BW8zM6t4JFK"
      },
      "source": [
        "One way to think a `Series` is regarded it as a labeled array.\n",
        "Creating a `Series` by passing a list of values, letting pandas create a default integer *index*:"
      ]
    },
    {
      "cell_type": "code",
      "metadata": {
        "id": "OqVoB_l04JFL"
      },
      "source": [
        "s = pd.Series([1, 3, 5, np.nan, 6, 8])\n",
        "s"
      ],
      "execution_count": null,
      "outputs": []
    },
    {
      "cell_type": "markdown",
      "source": [
        "Since we did not specify an index for the data, a default one consisting of the integers `0` through `N - 1` (where `N` is the length of the data) is created. Often you'll want to create a Series with an index identifying each data point with a label:"
      ],
      "metadata": {
        "id": "OKLXgMm6zCY0"
      }
    },
    {
      "cell_type": "code",
      "source": [
        "s2 = pd.Series([4, 7, -5, 3], index=[\"d\", \"b\", \"a\", \"c\"])\n",
        "s2"
      ],
      "metadata": {
        "id": "Xpg-ftT7zQJk"
      },
      "execution_count": null,
      "outputs": []
    },
    {
      "cell_type": "markdown",
      "source": [
        "Another way to think about a `Series` is as a fixed-length, ordered dictionary, as it is a mapping of index values to data values."
      ],
      "metadata": {
        "id": "4KjeFYXsz-Uz"
      }
    },
    {
      "cell_type": "code",
      "source": [
        "sdata = {\"Ohio\": 35000, \"Texas\": 71000, \"Oregon\": 16000, \"Utah\": 5000}\n",
        "s3 = pd.Series(sdata)\n",
        "s3"
      ],
      "metadata": {
        "id": "-1Weovzx0Af7"
      },
      "execution_count": null,
      "outputs": []
    },
    {
      "cell_type": "markdown",
      "metadata": {
        "id": "1NI5UMqL4JFM"
      },
      "source": [
        "We will store and manipulate this data in a `pandas.DataFrame`, from the `pandas` module. It is the `Python` equivalent of the spreadsheet table. It is different from a `2D numpy` array as it has named columns, can contain a mixture of different data types by column, and has elaborate mechanisms. The `DataFrame` has both a row and column index."
      ]
    },
    {
      "cell_type": "code",
      "metadata": {
        "id": "xNoCs3kG4JFM"
      },
      "source": [
        "dates = pd.date_range(\"20220101\", periods=6)\n",
        "df = pd.DataFrame(np.random.randn(6, 4), index=dates, columns=list(\"ABCD\"))\n",
        "df"
      ],
      "execution_count": null,
      "outputs": []
    },
    {
      "cell_type": "markdown",
      "metadata": {
        "id": "f8MbqJJk4JFN"
      },
      "source": [
        "Creating from arrays: A `pandas.DataFrame` can also be seen as a dictionary of 1D `Series` that share the same index, eg arrays or lists. If we have 3 `numpy` arrays:"
      ]
    },
    {
      "cell_type": "code",
      "metadata": {
        "id": "zWPArBIo4JFN"
      },
      "source": [
        "t = np.arange(10) #start from 0\n",
        "sin_t = np.sin(t)\n",
        "cos_t = np.cos(t)\n",
        "df2 = pd.DataFrame({'t': t, 'sin': sin_t, 'cos': cos_t})\n",
        "df2"
      ],
      "execution_count": null,
      "outputs": []
    },
    {
      "cell_type": "markdown",
      "source": [
        "One of the most common is from a dictionary of equal-length lists or `NumPy` arrays:"
      ],
      "metadata": {
        "id": "KjirXvBA1zEC"
      }
    },
    {
      "cell_type": "code",
      "source": [
        "data = {\"state\": [\"Ohio\", \"Ohio\", \"Ohio\", \"Nevada\", \"Nevada\", \"Nevada\"],\n",
        "        \"year\": [2000, 2001, 2002, 2001, 2002, 2003],\n",
        "        \"pop\": [1.5, 1.7, 3.6, 2.4, 2.9, 3.2]}\n",
        "frame = pd.DataFrame(data)\n",
        "frame"
      ],
      "metadata": {
        "id": "n2L_cOs010nh"
      },
      "execution_count": null,
      "outputs": []
    },
    {
      "cell_type": "markdown",
      "metadata": {
        "id": "rc12HnRE4JFN"
      },
      "source": [
        "The columns of the resulting `DataFrame` may have different `dtypes`."
      ]
    },
    {
      "cell_type": "code",
      "metadata": {
        "id": "XwOv8U5R4JFO"
      },
      "source": [
        "df2.dtypes"
      ],
      "execution_count": null,
      "outputs": []
    },
    {
      "cell_type": "markdown",
      "metadata": {
        "id": "PUEGFoFP4JFO"
      },
      "source": [
        "### Viewing data"
      ]
    },
    {
      "cell_type": "code",
      "source": [
        "s.array, s.index"
      ],
      "metadata": {
        "id": "X3iQT7u02iV6"
      },
      "execution_count": null,
      "outputs": []
    },
    {
      "cell_type": "code",
      "metadata": {
        "id": "0lAu54El4JFO"
      },
      "source": [
        "df.head()"
      ],
      "execution_count": null,
      "outputs": []
    },
    {
      "cell_type": "code",
      "metadata": {
        "id": "Zf06zEQy4JFP"
      },
      "source": [
        "df.tail(3)"
      ],
      "execution_count": null,
      "outputs": []
    },
    {
      "cell_type": "code",
      "metadata": {
        "id": "JWCDWJxs4JFP"
      },
      "source": [
        "df.index"
      ],
      "execution_count": null,
      "outputs": []
    },
    {
      "cell_type": "code",
      "metadata": {
        "id": "G6nss4Jx4JFP"
      },
      "source": [
        "df.columns"
      ],
      "execution_count": null,
      "outputs": []
    },
    {
      "cell_type": "code",
      "source": [
        "df.values"
      ],
      "metadata": {
        "id": "qbi-tPTry3Fz"
      },
      "execution_count": null,
      "outputs": []
    },
    {
      "cell_type": "markdown",
      "metadata": {
        "id": "j1nE3VAl4JFP"
      },
      "source": [
        "`describe()` shows a quick statistic summary of your data:"
      ]
    },
    {
      "cell_type": "code",
      "metadata": {
        "id": "zy4u-8K_4JFQ"
      },
      "source": [
        "df.describe()"
      ],
      "execution_count": null,
      "outputs": []
    },
    {
      "cell_type": "markdown",
      "metadata": {
        "id": "ptmnXKtN4JFQ"
      },
      "source": [
        "Sorting by an axis:"
      ]
    },
    {
      "cell_type": "code",
      "metadata": {
        "id": "1kGwH5D74JFQ"
      },
      "source": [
        "df.sort_index(axis=1, ascending=False)"
      ],
      "execution_count": null,
      "outputs": []
    },
    {
      "cell_type": "markdown",
      "metadata": {
        "id": "PsMdFk064JFQ"
      },
      "source": [
        "Sorting by values:"
      ]
    },
    {
      "cell_type": "code",
      "metadata": {
        "id": "UDHauyFP4JFR"
      },
      "source": [
        "df.sort_values(by=\"B\")"
      ],
      "execution_count": null,
      "outputs": []
    },
    {
      "cell_type": "markdown",
      "metadata": {
        "id": "YXvCG7iB4JFR"
      },
      "source": [
        "### Selecting data"
      ]
    },
    {
      "cell_type": "markdown",
      "metadata": {
        "id": "w3E0iE5a4JFR"
      },
      "source": [
        "Selecting a single column, which yields a `Series`, equivalent to `df.A`:"
      ]
    },
    {
      "cell_type": "code",
      "metadata": {
        "id": "nOxcb3wz4JFR"
      },
      "source": [
        "df[\"A\"]"
      ],
      "execution_count": null,
      "outputs": []
    },
    {
      "cell_type": "code",
      "metadata": {
        "id": "t2_a1eKJ4JFR"
      },
      "source": [
        "df[0:3] #Selecting via [], which slices the rows. df[\"20210101\":\"20210103\"] also works"
      ],
      "execution_count": null,
      "outputs": []
    },
    {
      "cell_type": "markdown",
      "metadata": {
        "id": "niorNvK24JFR"
      },
      "source": [
        "Selection by labels of columns or rows (loc)"
      ]
    },
    {
      "cell_type": "code",
      "metadata": {
        "id": "uINXCrJP4JFR"
      },
      "source": [
        "df.loc[:, [\"A\", \"B\"]]  "
      ],
      "execution_count": null,
      "outputs": []
    },
    {
      "cell_type": "code",
      "metadata": {
        "id": "vZIjEewk4JFS"
      },
      "source": [
        "df.loc[\"20220101\":\"20220104\",\"A\":\"C\"]"
      ],
      "execution_count": null,
      "outputs": []
    },
    {
      "cell_type": "markdown",
      "metadata": {
        "id": "ilbA-hR34JFS"
      },
      "source": [
        "Selection by position (Simiar to `NumPy` and `Python`)"
      ]
    },
    {
      "cell_type": "code",
      "metadata": {
        "id": "bRF006BA4JFS"
      },
      "source": [
        "df.iloc[3]"
      ],
      "execution_count": null,
      "outputs": []
    },
    {
      "cell_type": "code",
      "metadata": {
        "id": "6mE964M44JFU"
      },
      "source": [
        "df.iloc[3:5, 0:2]"
      ],
      "execution_count": null,
      "outputs": []
    },
    {
      "cell_type": "markdown",
      "metadata": {
        "id": "u1oLezeV4JFU"
      },
      "source": [
        "Boolean indexing"
      ]
    },
    {
      "cell_type": "code",
      "metadata": {
        "id": "7xH-FyW24JFU"
      },
      "source": [
        "df[df[\"A\"] > 0]"
      ],
      "execution_count": null,
      "outputs": []
    },
    {
      "cell_type": "markdown",
      "metadata": {
        "id": "98CZxgeK4JFV"
      },
      "source": [
        "Setting and adding data"
      ]
    },
    {
      "cell_type": "code",
      "metadata": {
        "id": "of1JHGt74JFV"
      },
      "source": [
        "df2 = df.copy()\n",
        "df2[\"E\"] = [\"one\", \"one\", \"two\", \"three\", \"four\", \"three\"]\n",
        "df2"
      ],
      "execution_count": null,
      "outputs": []
    },
    {
      "cell_type": "markdown",
      "source": [
        "An important method on pandas objects is `reindex`, which means to create a new object with the values rearranged to align with the new index."
      ],
      "metadata": {
        "id": "I6ZqwcWe4C3y"
      }
    },
    {
      "cell_type": "code",
      "source": [
        "obj = pd.Series([4.5, 7.2, -5.3, 3.6], index=[\"d\", \"b\", \"a\", \"c\"])\n",
        "obj"
      ],
      "metadata": {
        "id": "C0hEeGir4VCC"
      },
      "execution_count": null,
      "outputs": []
    },
    {
      "cell_type": "code",
      "metadata": {
        "id": "GiqiZrt94JFV"
      },
      "source": [
        "obj2 = obj.reindex([\"a\", \"b\", \"c\", \"d\", \"e\"]) # Reindexing allows you to change/add/delete the index on a specified axis. This returns a copy of the data.\n",
        "obj2  #pandas primarily uses the value np.nan to represent missing data. It is by default not included in computations. Check dropna(), fillna() and isna()"
      ],
      "execution_count": null,
      "outputs": []
    },
    {
      "cell_type": "markdown",
      "metadata": {
        "id": "nlnnBzQX4JFV"
      },
      "source": [
        "### Computation about data"
      ]
    },
    {
      "cell_type": "code",
      "metadata": {
        "id": "-zxrZB3a4JFV"
      },
      "source": [
        "df.mean()"
      ],
      "execution_count": null,
      "outputs": []
    },
    {
      "cell_type": "code",
      "metadata": {
        "id": "HjUqCEMi4JFV"
      },
      "source": [
        "df.apply(np.cumsum)"
      ],
      "execution_count": null,
      "outputs": []
    },
    {
      "cell_type": "markdown",
      "metadata": {
        "id": "SgNInUCh4JFV"
      },
      "source": [
        "### Merge and Group data"
      ]
    },
    {
      "cell_type": "code",
      "metadata": {
        "id": "diVE9Lko4JFV"
      },
      "source": [
        "pieces = [df[:2], df[2:4], df[4:]]\n",
        "pieces, type(pieces[0])"
      ],
      "execution_count": null,
      "outputs": []
    },
    {
      "cell_type": "code",
      "metadata": {
        "id": "y6qOVszA4JFW"
      },
      "source": [
        "pd.concat(pieces) #Adding a column to a DataFrame is relatively fast. However, adding a row requires a copy, and may be expensive."
      ],
      "execution_count": null,
      "outputs": []
    },
    {
      "cell_type": "code",
      "metadata": {
        "id": "oS3X1s6p4JFW"
      },
      "source": [
        "df = pd.DataFrame(\n",
        "    {\n",
        "        \"A\": [\"foo\", \"bar\", \"foo\", \"bar\", \"foo\", \"bar\", \"foo\", \"foo\"],\n",
        "        \"B\": [\"one\", \"one\", \"two\", \"three\", \"two\", \"two\", \"one\", \"three\"],\n",
        "        \"C\": np.random.randn(8),\n",
        "        \"D\": np.random.randn(8),\n",
        "    }\n",
        ")\n",
        "df"
      ],
      "execution_count": null,
      "outputs": []
    },
    {
      "cell_type": "code",
      "metadata": {
        "id": "ZIss1Y-Z4JFW"
      },
      "source": [
        "df.groupby(\"A\").sum()"
      ],
      "execution_count": null,
      "outputs": []
    },
    {
      "cell_type": "markdown",
      "metadata": {
        "id": "n-ABXPbF4JFW"
      },
      "source": [
        "### I/O"
      ]
    },
    {
      "cell_type": "code",
      "metadata": {
        "id": "GfCdfomu4JFW"
      },
      "source": [
        "df.to_excel(\"foo.xlsx\", sheet_name=\"Sheet1\")"
      ],
      "execution_count": null,
      "outputs": []
    },
    {
      "cell_type": "code",
      "metadata": {
        "id": "ZgVYHOYu4JFW"
      },
      "source": [
        "df.to_csv(\"foo.csv\")"
      ],
      "execution_count": null,
      "outputs": []
    },
    {
      "cell_type": "markdown",
      "source": [
        "For more information, refer to https://wesmckinney.com/book/pandas-basics.html and https://pandas.pydata.org/Pandas_Cheat_Sheet.pdf"
      ],
      "metadata": {
        "id": "Pc_YBiUn5c7R"
      }
    },
    {
      "cell_type": "markdown",
      "metadata": {
        "id": "GJUkDWlR4JFW"
      },
      "source": [
        "## Seaborn"
      ]
    },
    {
      "cell_type": "markdown",
      "metadata": {
        "id": "RJi7jkuN4JFX"
      },
      "source": [
        "Statistical analysis is a process of understanding how variables in a dataset relate to each other and how those relationships depend on other variables. Visualization can be a core component of this process because, when data are visualized properly, the human visual system can see trends and patterns that indicate a relationship."
      ]
    },
    {
      "cell_type": "markdown",
      "metadata": {
        "id": "hoTmnhWM4JFX"
      },
      "source": [
        "The \"tips\" dataset https://www.kaggle.com/ranjeetjain3/seaborn-tips-dataset"
      ]
    },
    {
      "cell_type": "code",
      "metadata": {
        "id": "4N8rN7yT4JFX"
      },
      "source": [
        "tips = sns.load_dataset(\"tips\")\n",
        "print(tips.shape)\n",
        "tips.head()"
      ],
      "execution_count": null,
      "outputs": []
    },
    {
      "cell_type": "markdown",
      "metadata": {
        "id": "TS45Et6n4JFX"
      },
      "source": [
        "### Scatterplot"
      ]
    },
    {
      "cell_type": "markdown",
      "metadata": {
        "id": "N2x9_kWe4JFX"
      },
      "source": [
        "The scatter plot is a mainstay of statistical visualization. It depicts the **joint distribution of two variables** using a cloud of points, where each point represents an observation in the dataset. "
      ]
    },
    {
      "cell_type": "code",
      "metadata": {
        "id": "3YoenfTZ4JFX"
      },
      "source": [
        "# Scatterplot\n",
        "sns.relplot(x=\"total_bill\", y=\"tip\", data=tips) "
      ],
      "execution_count": null,
      "outputs": []
    },
    {
      "cell_type": "markdown",
      "metadata": {
        "id": "6wdaRwzi4JFX"
      },
      "source": [
        "While the points are plotted in two dimensions, another dimension can be added to the plot by conditioning a third variable. In `seaborn`, this is referred to as using a “hue/styple/size semantic”, because the color/style/size of the point gains meaning:"
      ]
    },
    {
      "cell_type": "code",
      "metadata": {
        "id": "kn-5UriX4JFY"
      },
      "source": [
        "sns.relplot(x=\"total_bill\", y=\"tip\", hue=\"smoker\", data=tips) "
      ],
      "execution_count": null,
      "outputs": []
    },
    {
      "cell_type": "code",
      "source": [
        "sns.relplot(x=\"total_bill\", y=\"tip\", style=\"smoker\", data=tips) # you can use a different marker style for each class"
      ],
      "metadata": {
        "id": "N3c4zZ7jQm9R"
      },
      "execution_count": null,
      "outputs": []
    },
    {
      "cell_type": "code",
      "metadata": {
        "id": "l5k3oSuO4JFY"
      },
      "source": [
        "sns.relplot(x=\"total_bill\", y=\"tip\", hue=\"size\", data=tips) #if hue is numeric rather than categorical"
      ],
      "execution_count": null,
      "outputs": []
    },
    {
      "cell_type": "code",
      "metadata": {
        "id": "fjJWYobG4JFY"
      },
      "source": [
        "sns.relplot(x=\"total_bill\", y=\"tip\", size=\"size\", sizes=(15, 200), data=tips) #size rather than colors"
      ],
      "execution_count": null,
      "outputs": []
    },
    {
      "cell_type": "markdown",
      "metadata": {
        "id": "IUUrvBMJ4JFY"
      },
      "source": [
        "Note that we can plot small multiples by using row and col variable"
      ]
    },
    {
      "cell_type": "code",
      "metadata": {
        "id": "qLn5OiIR4JFY"
      },
      "source": [
        "sns.relplot(x=\"total_bill\", y=\"tip\", hue=\"smoker\",\n",
        "            col=\"time\", data=tips) #show in different subplot"
      ],
      "execution_count": null,
      "outputs": []
    },
    {
      "cell_type": "markdown",
      "metadata": {
        "id": "TBeqpeRI4JFY"
      },
      "source": [
        "### Lineplot"
      ]
    },
    {
      "cell_type": "markdown",
      "metadata": {
        "id": "OFnBaO7v4JFZ"
      },
      "source": [
        "With some datasets, you may want to understand changes in one variable as a function of time, or a similarly continuous variable. In this situation, a good choice is to draw a line plot to **emphasize the continuity**."
      ]
    },
    {
      "cell_type": "code",
      "metadata": {
        "id": "foVhf1hn4JFZ"
      },
      "source": [
        "df = pd.DataFrame(dict(time=np.arange(500),\n",
        "                       value=np.random.randn(500).cumsum()))\n",
        "g = sns.relplot(x=\"time\", y=\"value\", kind=\"line\", data=df)"
      ],
      "execution_count": null,
      "outputs": []
    },
    {
      "cell_type": "markdown",
      "metadata": {
        "id": "wYW1eoEu4JFZ"
      },
      "source": [
        "More complex datasets will have multiple measurements for the same value of the x variable. The default behavior in seaborn is to aggregate the multiple measurements at each x value by plotting the mean and the 95% confidence interval around the mean by bootstraping:"
      ]
    },
    {
      "cell_type": "code",
      "metadata": {
        "id": "Ca0fvKy_4JFZ"
      },
      "source": [
        "fmri = sns.load_dataset(\"fmri\")\n",
        "sns.lineplot(x=\"timepoint\", y=\"signal\", hue=\"event\", style=\"event\", markers=True, data=fmri)"
      ],
      "execution_count": null,
      "outputs": []
    },
    {
      "cell_type": "markdown",
      "metadata": {
        "id": "wSGjkVDt4JFZ"
      },
      "source": [
        "### Histplot"
      ]
    },
    {
      "cell_type": "markdown",
      "metadata": {
        "id": "LnRwIhcU4JFZ"
      },
      "source": [
        "An early step in any effort to analyze or model data should be to understand **how the variables are distributed**. Techniques for distribution visualization can provide quick answers to many important questions. What range do the observations cover? What is their central tendency? Are they heavily skewed in one direction? Is there evidence for bimodality? Are there significant outliers? Do the answers to these questions vary across subsets defined by other variables?"
      ]
    },
    {
      "cell_type": "code",
      "metadata": {
        "id": "bHSbvXI24JFZ"
      },
      "source": [
        "sns.displot(x=\"total_bill\", data = tips) #check parameter bins and binwidth"
      ],
      "execution_count": null,
      "outputs": []
    },
    {
      "cell_type": "code",
      "metadata": {
        "id": "M4HlVxw44JFZ"
      },
      "source": [
        "sns.histplot(x=\"day\", hue=\"sex\", data=tips) #By default, the different histograms are “layered” on top of each other and, in some cases, they may be difficult to distinguish."
      ],
      "execution_count": null,
      "outputs": []
    },
    {
      "cell_type": "code",
      "metadata": {
        "id": "N1gPktbC4JFa"
      },
      "source": [
        "sns.histplot(x=\"day\", hue=\"sex\", multiple=\"dodge\", shrink=.8, data=tips)"
      ],
      "execution_count": null,
      "outputs": []
    },
    {
      "cell_type": "markdown",
      "metadata": {
        "id": "IQiV9byV4JFa"
      },
      "source": [
        "### Kdeplot"
      ]
    },
    {
      "cell_type": "markdown",
      "metadata": {
        "id": "mtUez1Ca4JFa"
      },
      "source": [
        "Kernel density estimation (KDE) presents a different solution to the same problem. Rather than using discrete bins, a KDE plot smooths the observations with a Gaussian kernel, producing a continuous density estimate:"
      ]
    },
    {
      "cell_type": "code",
      "metadata": {
        "id": "DiZD48JV4JFa"
      },
      "source": [
        "sns.kdeplot(x=\"total_bill\", data=tips)"
      ],
      "execution_count": null,
      "outputs": []
    },
    {
      "cell_type": "code",
      "metadata": {
        "id": "FE3HpFc04JFa"
      },
      "source": [
        "sns.kdeplot(x=\"total_bill\", hue=\"time\", multiple=\"stack\", data=tips)"
      ],
      "execution_count": null,
      "outputs": []
    },
    {
      "cell_type": "markdown",
      "metadata": {
        "id": "U2vFGfa-4JFa"
      },
      "source": [
        "### Joinplot"
      ]
    },
    {
      "cell_type": "markdown",
      "metadata": {
        "id": "hSBJ8mX64JFa"
      },
      "source": [
        "`jointplot()` augments a bivariate relatonal or distribution plot with the marginal distributions of the two variables. By default, `jointplot()` represents the bivariate distribution using `scatterplot()` and the marginal distributions using `histplot()`:"
      ]
    },
    {
      "cell_type": "code",
      "metadata": {
        "id": "TfebbFtA4JFa"
      },
      "source": [
        "sns.jointplot(x=\"total_bill\", y=\"tip\", data=tips) "
      ],
      "execution_count": null,
      "outputs": []
    },
    {
      "cell_type": "markdown",
      "metadata": {
        "id": "6ljnZnjV4JFa"
      },
      "source": [
        "### Pairpolt"
      ]
    },
    {
      "cell_type": "markdown",
      "metadata": {
        "id": "PeYBZZ584JFb"
      },
      "source": [
        "The `pairplot()` function offers a similar blend of joint and marginal distributions. Rather than focusing on a single relationship, however, `pairplot()` uses a “small-multiple” approach to visualize the univariate distribution of all variables in a dataset along with all of their pairwise relationships:"
      ]
    },
    {
      "cell_type": "code",
      "metadata": {
        "id": "FkNw4yY14JFb"
      },
      "source": [
        "sns.pairplot(tips)"
      ],
      "execution_count": null,
      "outputs": []
    },
    {
      "cell_type": "markdown",
      "metadata": {
        "id": "hm6rRf9L4JFb"
      },
      "source": [
        "### Boxplot"
      ]
    },
    {
      "cell_type": "markdown",
      "metadata": {
        "id": "nFYtDFK_4JFb"
      },
      "source": [
        "As the size of the dataset grows, categorical scatter plots become limited in the information they can provide about the **distribution** of values within each category. When this happens, there are several approaches for summarizing the distributional information in ways that facilitate easy comparisons across the category levels."
      ]
    },
    {
      "cell_type": "code",
      "metadata": {
        "id": "gibSq-Or4JFb"
      },
      "source": [
        "sns.catplot(x=\"day\", y=\"total_bill\", kind=\"box\", data=tips)"
      ],
      "execution_count": null,
      "outputs": []
    },
    {
      "cell_type": "code",
      "metadata": {
        "id": "ocFYaiJ54JFb"
      },
      "source": [
        "sns.catplot(x=\"day\", y=\"total_bill\", hue=\"smoker\", kind=\"box\", data=tips) # When adding a hue semantic, the box for each level of the semantic variable is moved along the categorical axis so they don’t overlap"
      ],
      "execution_count": null,
      "outputs": []
    },
    {
      "cell_type": "markdown",
      "metadata": {
        "id": "OyzEANQm4JFb"
      },
      "source": [
        "### Barplot"
      ]
    },
    {
      "cell_type": "markdown",
      "metadata": {
        "id": "g46PETDv4JFb"
      },
      "source": [
        "Rather than showing the distribution within each category, you might want to show an estimate of the **central tendency** of the values. In seaborn, the `barplot()` function operates on a full dataset and applies a function to obtain the estimate (taking the mean by default). When there are multiple observations in each category, it also uses bootstrapping to compute a confidence interval around the estimate, which is plotted using error bars:"
      ]
    },
    {
      "cell_type": "code",
      "metadata": {
        "id": "mLtlL9t84JFb"
      },
      "source": [
        "ax = sns.barplot(x=\"day\", y=\"tip\", data=tips)"
      ],
      "execution_count": null,
      "outputs": []
    },
    {
      "cell_type": "code",
      "metadata": {
        "id": "qhsMx-Oc4JFb"
      },
      "source": [
        "sns.catplot(x=\"day\", y=\"total_bill\", hue=\"sex\", kind=\"bar\", data=tips)"
      ],
      "execution_count": null,
      "outputs": []
    },
    {
      "cell_type": "markdown",
      "metadata": {
        "id": "YPtQDgBL4JFc"
      },
      "source": [
        "### Countplot"
      ]
    },
    {
      "cell_type": "code",
      "metadata": {
        "id": "jO3fdEKO4JFc"
      },
      "source": [
        "sns.countplot(x=\"smoker\", data=tips) #simply count the number"
      ],
      "execution_count": null,
      "outputs": []
    },
    {
      "cell_type": "markdown",
      "metadata": {
        "id": "SGWQYvr-4JFc"
      },
      "source": [
        "### Pointplot"
      ]
    },
    {
      "cell_type": "markdown",
      "metadata": {
        "id": "ekXugVQy4JFc"
      },
      "source": [
        "This function also encodes the value of the estimate with height on the other axis, but rather than showing a full bar, it plots the **point estimate** and confidence interval"
      ]
    },
    {
      "cell_type": "code",
      "metadata": {
        "id": "c_w0QnnD4JFc"
      },
      "source": [
        "sns.pointplot(x=\"day\", y=\"tip\", data=tips, ci=68)"
      ],
      "execution_count": null,
      "outputs": []
    },
    {
      "cell_type": "markdown",
      "metadata": {
        "id": "k0RIDgBg4JFc"
      },
      "source": [
        "### Regplot/lmplot\n",
        "In the spirit of Tukey, the regression plots in seaborn are primarily intended to add a visual guide that helps to emphasize patterns in a dataset during exploratory data analyses. The goal of `seaborn`, however, is to make exploring a dataset through visualization quick and easy, as doing so is just as (if not more) important than exploring a dataset through tables of statistics."
      ]
    },
    {
      "cell_type": "code",
      "metadata": {
        "id": "rcSPR0Lh4JFc"
      },
      "source": [
        "sns.regplot(x=\"total_bill\", y=\"tip\", data=tips)"
      ],
      "execution_count": null,
      "outputs": []
    },
    {
      "cell_type": "markdown",
      "metadata": {
        "id": "cHCtvMeD4JFc"
      },
      "source": [
        "When the y variable is binary, simple linear regression also “works” but provides implausible predictions. The solution in this case is to fit a logistic regression, such that the regression line shows the estimated probability of y = 1 for a given value of x:"
      ]
    },
    {
      "cell_type": "code",
      "metadata": {
        "id": "zqmIdnK64JFc"
      },
      "source": [
        "tips[\"big_tip\"] = (tips.tip / tips.total_bill) > .15\n",
        "sns.lmplot(x=\"total_bill\", y=\"big_tip\", data=tips,\n",
        "           logistic=True, y_jitter=.03)"
      ],
      "execution_count": null,
      "outputs": []
    },
    {
      "cell_type": "code",
      "metadata": {
        "id": "QV-zqp5R4JFd"
      },
      "source": [
        "sns.lmplot(x=\"total_bill\", y=\"tip\", hue=\"smoker\", col=\"time\", data=tips)"
      ],
      "execution_count": null,
      "outputs": []
    },
    {
      "cell_type": "markdown",
      "metadata": {
        "id": "zuKe6I8G4JFd"
      },
      "source": [
        "### Heatmap"
      ]
    },
    {
      "cell_type": "code",
      "metadata": {
        "id": "6lmiU_f24JFd"
      },
      "source": [
        "corr = tips.corr()\n",
        "sns.heatmap(corr)"
      ],
      "execution_count": null,
      "outputs": []
    },
    {
      "cell_type": "markdown",
      "metadata": {
        "id": "2VigkNwh4JFe"
      },
      "source": [
        "Customized your plot https://seaborn.pydata.org/tutorial/axis_grids.html. For more information, see https://seaborn.pydata.org/tutorial.html"
      ]
    },
    {
      "cell_type": "markdown",
      "metadata": {
        "id": "CrN_myt54JFe"
      },
      "source": [
        "## Lab1: Loading Datasets and processing\n",
        "\n",
        "<center><img src=\"https://pandas.pydata.org/docs/_images/02_io_readwrite.svg\"></center>\n",
        "\n",
        "<div align=\"center\"> source: https://stackoverflow.com/questions/2354725/what-exactly-is-llvm </div>"
      ]
    },
    {
      "cell_type": "markdown",
      "metadata": {
        "id": "mLAvfsx84JFe"
      },
      "source": [
        "Datasets available on https://www.statlearning.com/resources-second-edition"
      ]
    },
    {
      "cell_type": "code",
      "metadata": {
        "id": "QNptZYU9kCM_"
      },
      "source": [
        "from google.colab import drive\n",
        "drive.mount('/content/drive')"
      ],
      "execution_count": null,
      "outputs": []
    },
    {
      "cell_type": "code",
      "metadata": {
        "id": "L9yw9srM4JFe"
      },
      "source": [
        "Wage = pd.read_csv('/content/drive/MyDrive/Lab/Data/Wage.csv')\n",
        "Wage.head(3)"
      ],
      "execution_count": null,
      "outputs": []
    },
    {
      "cell_type": "code",
      "metadata": {
        "id": "IvM_DamL4JFe"
      },
      "source": [
        "Wage.shape, Wage.columns"
      ],
      "execution_count": null,
      "outputs": []
    },
    {
      "cell_type": "code",
      "metadata": {
        "id": "O-QQLgH44JFe"
      },
      "source": [
        "Wage.info(), Wage.describe()"
      ],
      "execution_count": null,
      "outputs": []
    },
    {
      "cell_type": "code",
      "metadata": {
        "id": "B4p7P9M94JFf"
      },
      "source": [
        "Wage[Wage['year'] == 2004]['wage'].mean()"
      ],
      "execution_count": null,
      "outputs": []
    },
    {
      "cell_type": "code",
      "metadata": {
        "id": "pK0Nnw254JFf"
      },
      "source": [
        "groupby_year = Wage.groupby('year')\n",
        "for year, value in groupby_year['wage']:\n",
        "    print((year, value.mean()))"
      ],
      "execution_count": null,
      "outputs": []
    },
    {
      "cell_type": "code",
      "metadata": {
        "id": "WZku8xvS4JFf"
      },
      "source": [
        "groupby_year # groupby_year is a powerful object that exposes many operations on the resulting group of dataframes:"
      ],
      "execution_count": null,
      "outputs": []
    },
    {
      "cell_type": "markdown",
      "metadata": {
        "id": "I_vuwI0w4JFf"
      },
      "source": [
        "`Seaborn` combines simple statistical fits with plotting on `Pandas` dataframes."
      ]
    },
    {
      "cell_type": "code",
      "metadata": {
        "id": "FNT-s-By4JFf"
      },
      "source": [
        "# creating plots\n",
        "# Scatter plot with polynomial regression line, the regression line is bounded by the data limits. truncate=True.\n",
        "plt.figure(figsize=(4,6))\n",
        "sns.scatterplot(x=\"age\", y=\"wage\", data=Wage, alpha=0.1)\n",
        "sns.regplot(x=\"age\", y=\"wage\", data=Wage, order=4, truncate=True, scatter=False) "
      ],
      "execution_count": null,
      "outputs": []
    },
    {
      "cell_type": "code",
      "metadata": {
        "id": "YQNtld5E4JFf"
      },
      "source": [
        "# creating plots\n",
        "# Scatter plot with polynomial regression line\n",
        "plt.figure(figsize=(4,6))\n",
        "sns.scatterplot(x=\"year\", y=\"wage\", data=Wage, alpha=0.1)\n",
        "sns.regplot(x=\"year\", y=\"wage\", data=Wage, order=1, truncate=True, scatter=False)"
      ],
      "execution_count": null,
      "outputs": []
    },
    {
      "cell_type": "code",
      "metadata": {
        "id": "nCpHU-L74JFg"
      },
      "source": [
        "print(Wage.education.unique())\n",
        "originalL = list(Wage.education.unique())\n",
        "orderL = [originalL[0], originalL[3], originalL[2], originalL[1], originalL[4]]"
      ],
      "execution_count": null,
      "outputs": []
    },
    {
      "cell_type": "code",
      "metadata": {
        "id": "lfX0XUGs4JFg"
      },
      "source": [
        "plt.figure(figsize=(4,6))\n",
        "ax = sns.boxplot(x=\"education\", y=\"wage\", data=Wage, order=orderL)\n",
        "ax.set_xticklabels([t.get_text().split()[0][0]  for t in ax.get_xticklabels()])"
      ],
      "execution_count": null,
      "outputs": []
    },
    {
      "cell_type": "code",
      "metadata": {
        "id": "Xhn5QwTt4JFg"
      },
      "source": [
        "Smarket = pd.read_csv('/content/drive/MyDrive/Lab/Data/Smarket.csv')\n",
        "Smarket.head()"
      ],
      "execution_count": null,
      "outputs": []
    },
    {
      "cell_type": "code",
      "metadata": {
        "id": "PRWidE_z4JFg"
      },
      "source": [
        "plt.figure(figsize=(4,6))\n",
        "ax =sns.boxplot(x=\"Direction\", y=\"Lag1\", data=Smarket, order=[\"Down\", \"Up\"])\n",
        "ax.set_ylabel(\"Percentage change in S&P\")\n",
        "ax.set_xlabel(\"Today's Direction\")\n",
        "plt.title(\"Yesterday\")"
      ],
      "execution_count": null,
      "outputs": []
    },
    {
      "cell_type": "code",
      "metadata": {
        "id": "q6uOrHGD4JFg"
      },
      "source": [
        "plt.figure(figsize=(4,6))\n",
        "ax = sns.boxplot(x=\"Direction\", y=\"Lag2\", data=Smarket, order=[\"Down\", \"Up\"])\n",
        "ax.set_ylabel(\"Percentage change in S&P\")\n",
        "ax.set_xlabel(\"Today's Direction\")\n",
        "plt.title(\"Two Days Previois\")"
      ],
      "execution_count": null,
      "outputs": []
    },
    {
      "cell_type": "code",
      "metadata": {
        "id": "ePGR-42C4JFg"
      },
      "source": [
        "plt.figure(figsize=(4,6))\n",
        "ax = sns.boxplot(x=\"Direction\", y=\"Lag3\", data=Smarket, order=[\"Down\", \"Up\"])\n",
        "ax.set_ylabel(\"Percentage change in S&P\")\n",
        "ax.set_xlabel(\"Today's Direction\")\n",
        "plt.title(\"Three Days Previois\")"
      ],
      "execution_count": null,
      "outputs": []
    },
    {
      "cell_type": "code",
      "metadata": {
        "id": "T7CDlDbn4JFg"
      },
      "source": [
        "Smarket = pd.read_csv('/content/drive/MyDrive/Lab/Data/Smarket.csv', index_col=0) #use col0 as index"
      ],
      "execution_count": null,
      "outputs": []
    },
    {
      "cell_type": "code",
      "source": [
        "Smarket.head()"
      ],
      "metadata": {
        "id": "Eq642xId6GbV"
      },
      "execution_count": null,
      "outputs": []
    },
    {
      "cell_type": "code",
      "metadata": {
        "id": "8ghjHDlE4JFh"
      },
      "source": [
        "Smarket.loc[:'2004'][['Lag1','Lag2']]"
      ],
      "execution_count": null,
      "outputs": []
    },
    {
      "cell_type": "code",
      "metadata": {
        "id": "NMmOaCf44JFh"
      },
      "source": [
        "X_train = Smarket.loc[:'2004'][['Lag1','Lag2']]\n",
        "y_train = Smarket.loc[:'2004']['Direction']\n",
        "\n",
        "X_test = Smarket.loc['2005':][['Lag1','Lag2']]\n",
        "y_test = Smarket.loc['2005':]['Direction']"
      ],
      "execution_count": null,
      "outputs": []
    },
    {
      "cell_type": "code",
      "metadata": {
        "id": "G4OPfIo-4JFh"
      },
      "source": [
        "qda = QuadraticDiscriminantAnalysis()\n",
        "pred = qda.fit(X_train, y_train).predict_proba(X_test)"
      ],
      "execution_count": null,
      "outputs": []
    },
    {
      "cell_type": "code",
      "metadata": {
        "id": "Pm9KH2_b4JFh"
      },
      "source": [
        "qda.classes_"
      ],
      "execution_count": null,
      "outputs": []
    },
    {
      "cell_type": "code",
      "metadata": {
        "id": "5yFB3B8r4JFh"
      },
      "source": [
        "plt.figure(figsize=(4,6))\n",
        "sns.boxplot(x=y_test, y=pred[:,0]) #predicted probability for decrease"
      ],
      "execution_count": null,
      "outputs": []
    },
    {
      "cell_type": "code",
      "source": [
        "NCI60 = pd.read_csv('/content/drive/MyDrive/Lab/Data/NCI60_data.csv')\n",
        "NCI60.head()"
      ],
      "metadata": {
        "id": "bVTbX1YN6kNt"
      },
      "execution_count": null,
      "outputs": []
    },
    {
      "cell_type": "code",
      "metadata": {
        "id": "5IwcZoPq4JFh"
      },
      "source": [
        "NCI60 = pd.read_csv('/content/drive/MyDrive/Lab/Data/NCI60_data.csv').drop('Unnamed: 0', axis=1)\n",
        "NCI60.columns = np.arange(NCI60.columns.size)\n",
        "NCI60.head()"
      ],
      "execution_count": null,
      "outputs": []
    },
    {
      "cell_type": "code",
      "metadata": {
        "id": "FlK0ldl14JFh"
      },
      "source": [
        "X = pd.DataFrame(scale(NCI60))\n",
        "X.shape"
      ],
      "execution_count": null,
      "outputs": []
    },
    {
      "cell_type": "code",
      "metadata": {
        "id": "WcogLshC4JFi"
      },
      "source": [
        "y = pd.read_csv('/content/drive/MyDrive/Lab/Data/NCI60_labs.csv', usecols=[1], skiprows=1, names=['type'])\n",
        "y.shape"
      ],
      "execution_count": null,
      "outputs": []
    },
    {
      "cell_type": "code",
      "metadata": {
        "id": "PDqS9JeB4JFi"
      },
      "source": [
        "y.type.value_counts()"
      ],
      "execution_count": null,
      "outputs": []
    },
    {
      "cell_type": "code",
      "metadata": {
        "id": "oxUT7vPc4JFi"
      },
      "source": [
        "# Fit the PCA model and transform X to get the principal components\n",
        "pca2 = PCA()\n",
        "NCI60_plot = pd.DataFrame(pca2.fit_transform(X))"
      ],
      "execution_count": null,
      "outputs": []
    },
    {
      "cell_type": "code",
      "metadata": {
        "id": "K35Txy7G4JFi"
      },
      "source": [
        "fig, (ax1, ax2) = plt.subplots(1,2, figsize=(15,6))\n",
        "\n",
        "# Left plot\n",
        "sns.scatterplot(x =0, y=-NCI60_plot[1], data=NCI60_plot, hue=y.type, alpha=0.5, s=50, ax=ax1, legend=False)\n",
        "ax1.set_xlabel('Z1') \n",
        "ax1.set_ylabel('Z2')\n",
        "   \n",
        "\n",
        "# Right plot\n",
        "sns.scatterplot(x = 0, y= 2, data=NCI60_plot, hue=y.type, alpha=0.5, s=50, ax=ax2)\n",
        "ax2.legend(loc='center left', bbox_to_anchor=(1, 0.5), ncol=2)\n",
        "ax2.set_xlabel('Z1')  \n",
        "ax2.set_ylabel('Z3')"
      ],
      "execution_count": null,
      "outputs": []
    }
  ]
}