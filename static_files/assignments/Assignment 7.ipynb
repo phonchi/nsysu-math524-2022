{
 "cells": [
  {
   "cell_type": "markdown",
   "metadata": {
    "id": "XsMVgoYrbd0m"
   },
   "source": [
    "# Chapter 7 - Moving Beyond Linearity"
   ]
  },
  {
   "cell_type": "markdown",
   "metadata": {
    "id": "h7w2vRTAk2HA"
   },
   "source": [
    "#### Student ID:\n",
    "\n",
    "#### Name:  \n",
    "\n",
    "部分習題需要寫數學式。\n",
    "\n",
    "若不想用打的，可用手寫後，進行拍照或掃描，並使用以下指令引入圖片。\n",
    "\n",
    "請確認圖片清晰程度為可辨識。\n",
    "\n",
    "`![title](test.png)`"
   ]
  },
  {
   "cell_type": "markdown",
   "metadata": {
    "id": "Z_99BKJubd0u"
   },
   "source": [
    "### Q1: Polynomial Regression."
   ]
  },
  {
   "cell_type": "markdown",
   "metadata": {
    "id": "PUiktvyGF7dp"
   },
   "source": [
    "(a) Write the polynomial regression model $y_i = \\beta_0 + \\beta_1x_i + \\beta_2x_i^2 + ... + \\beta_mx_i^m + \\epsilon_i\\;(i=1,2,...,n)$ in matrix form."
   ]
  },
  {
   "cell_type": "markdown",
   "metadata": {
    "id": "Ia0b99CpnQRW"
   },
   "source": [
    "> Ans:  \n",
    "$$\n",
    "\\begin{pmatrix}\n",
    "y_1 \\\\ y_2 \\\\ y_3 \\\\ \\vdots \\\\ y_n\n",
    "\\end{pmatrix} = \n",
    "\\begin{pmatrix}\n",
    "1 & x_1 & ? & \\dots & ? \\\\\n",
    "1 & x_2 & ? & \\dots & ? \\\\\n",
    "1 & x_3 & ? & \\dots & ? \\\\\n",
    "\\vdots & \\vdots & \\vdots & \\ddots & \\vdots \\\\\n",
    "1 & x_n & ? & \\dots & ? \\\\\n",
    "\\end{pmatrix}\n",
    "\\begin{pmatrix}\n",
    "\\beta_1 \\\\ \\beta_2 \\\\ \\beta_3 \\\\ \\vdots \\\\ ?\n",
    "\\end{pmatrix}\n",
    "+\n",
    "\\begin{pmatrix}\n",
    "\\epsilon_1 \\\\ \\epsilon_2 \\\\ \\epsilon_3 \\\\ \\vdots \\\\ ?\n",
    "\\end{pmatrix}\n",
    "$$"
   ]
  },
  {
   "cell_type": "markdown",
   "metadata": {
    "id": "d9z_hX-AtWTm"
   },
   "source": [
    "(b) The matrix expression in (a) can be written as $Y = X\\mathbf{\\beta} + \\mathbf{\\epsilon}$. What is the vector of estimated polynomial regression coefficients ($\\hat{\\beta}$) using ordinary least squares estimation?  \n",
    "Write the answer in terms of $Y$ and $X$."
   ]
  },
  {
   "cell_type": "markdown",
   "metadata": {
    "id": "wDn7akjGtgGq"
   },
   "source": [
    "> Ans:  \n",
    "$\\hat{\\beta}=$"
   ]
  },
  {
   "cell_type": "markdown",
   "metadata": {
    "id": "91A1wCtA8Unt"
   },
   "source": [
    "Answer the following two questions using the variables `dis` (the weighted mean of distances to five Boston employment centers) and `nox` (nitrogen oxides concentration in parts per 10 million) from the `Boston` data. We will treat\n",
    "`dis` as the predictor and `nox` as the response."
   ]
  },
  {
   "cell_type": "code",
   "execution_count": null,
   "metadata": {
    "id": "d0kHkdwE8UUd"
   },
   "outputs": [],
   "source": [
    "# If you're using colab, run this block.\n",
    "import pandas as pd\n",
    "import matplotlib.pyplot as plt\n",
    "import seaborn as sns\n",
    "from google.colab import drive\n",
    "drive.mount('/content/drive')\n",
    "Boston = pd.read_csv('/content/drive/MyDrive/Statistic Learning and Data Mining/Boston.csv', index_col=0)\n",
    "dis = Boston.pop('dis')\n",
    "nox = Boston.pop('nox')"
   ]
  },
  {
   "cell_type": "code",
   "execution_count": null,
   "metadata": {
    "id": "nrTVjoic8LQu"
   },
   "outputs": [],
   "source": [
    "# If you're using Jupyter, run this block.\n",
    "import pandas as pd\n",
    "import matplotlib.pyplot as plt\n",
    "import seaborn as sns\n",
    "\n",
    "Boston = pd.read_csv('Boston.csv', index_col=0)\n",
    "dis = Boston.pop('dis')\n",
    "nox = Boston.pop('nox')"
   ]
  },
  {
   "cell_type": "markdown",
   "metadata": {
    "id": "d-toi06J9bcl"
   },
   "source": [
    "(c) Plot the polynomial fits using `sns.regplot` function (set `ax=ax` and `scatter=False`) with polynomial degrees (`order=n`) from 1 to 9, and report the associated residual sum of squares using `sm.OLS` and the `PolynomialFeatures` function."
   ]
  },
  {
   "cell_type": "code",
   "execution_count": null,
   "metadata": {
    "id": "KGSXKDgU9CUl"
   },
   "outputs": [],
   "source": [
    "import statsmodels.api as sm\n",
    "from sklearn.preprocessing import PolynomialFeatures\n",
    "\n",
    "fig, axes = plt.subplots(3, 3, sharex=True, sharey=True, figsize=(12,12))\n",
    "for i, axs in enumerate(axes):\n",
    "    for j, ax in enumerate(axs):\n",
    "        n = 1+j+3*i\n",
    "        sns.scatterplot(x=dis, y=nox, color='tab:gray', alpha=0.2,ax=ax)\n",
    "        # __________plot__________\n",
    "        ax.set(title = 'Degree = ' + str(n))\n",
    "        ax.axes.set_ylim(0.35,0.9)\n",
    "        ssr = # __________ssr__________\n",
    "        print('Degree', n, ':', ssr)"
   ]
  },
  {
   "cell_type": "markdown",
   "metadata": {
    "id": "cT1x-eeea3Bk"
   },
   "source": [
    "(d) Perform cross-validation or another approach to select the optimal\n",
    "degree for the polynomial.\n",
    "Describe your results."
   ]
  },
  {
   "cell_type": "code",
   "execution_count": null,
   "metadata": {
    "id": "ee7LiwRRa06E"
   },
   "outputs": [],
   "source": [
    "from sklearn.linear_model import LinearRegression\n",
    "from sklearn.model_selection import cross_val_score\n",
    "from sklearn.preprocessing import PolynomialFeatures\n",
    "\n",
    "scores = []\n",
    "fig, ax = plt.subplots(figsize=(6, 4))\n",
    "for n in range(1,10):\n",
    "  mse = # __________mse__________\n",
    "  scores.append(mse)\n",
    "plt.plot(range(1,10), scores, marker = 'o')\n",
    "plt.plot(scores.index(min(scores))+1, min(scores), marker = 'o', markersize = 8, color = 'r')\n",
    "ax.text(scores.index(min(scores))+1, min(scores)+0.1, round(min(scores), 6), size=12)\n",
    "plt.xlabel('Degree')\n",
    "plt.ylabel('10-CV error')"
   ]
  },
  {
   "cell_type": "markdown",
   "metadata": {
    "id": "Modt6advIoam"
   },
   "source": [
    "> Ans:  \n"
   ]
  },
  {
   "cell_type": "markdown",
   "metadata": {
    "id": "do66Q4etbd0u"
   },
   "source": [
    "### Q2: Regression Splines."
   ]
  },
  {
   "cell_type": "markdown",
   "metadata": {
    "id": "-AlHy4UiEA9J"
   },
   "source": [
    "A cubic regression spline with one knot at $\\xi$ can be obtained using a basis of the form $x$, $x^2$, $x^3$, $(x − \\xi)_+^3$, where $(x − \\xi)_+^3 = (x − \\xi)^3$ if $x > \\xi$ and equals 0 otherwise. We will now show that a function of the form\n",
    "$$f(x)=\\beta_0+\\beta_1x+\\beta_2x^2+\\beta_3x^3+\\beta_4 (x − \\xi)_+^3$$\n",
    "is indeed a cubic regression spline, regardless of the values of $\\beta_0$, $\\beta_1$, $\\beta_2$, $\\beta_3$, $\\beta_4$."
   ]
  },
  {
   "cell_type": "markdown",
   "metadata": {
    "id": "KMuiKOzOefgr"
   },
   "source": [
    "(a) Find a cubic polynomial\n",
    "$$f_1(x)=a_1+b_1x+c_1x^2+d_1x^3$$\n",
    "such that $f(x)=f_1(x)$ for all $x\\leq \\xi$. Express $a_1$, $b_1$, $c_1$, $d_1$ in terms of $\\beta_0$, $\\beta_1$, $\\beta_2$, $\\beta_3$, $\\beta_4$."
   ]
  },
  {
   "cell_type": "markdown",
   "metadata": {
    "id": "XRJNcKMr3BYD"
   },
   "source": [
    "> Ans:  \n",
    "$(a_1, b_1, c_1, d_1)=(?, ?, ?, ?)$"
   ]
  },
  {
   "cell_type": "markdown",
   "metadata": {
    "id": "xJW0nNb3mPQB"
   },
   "source": [
    "(b) Find a cubic polynomial\n",
    "$$f_2(x)=a_2+b_2x+c_2x^2+d_2x^3$$\n",
    "such that $f(x)=f_2(x)$ for all $x> \\xi$. Express $a_2$, $b_2$, $c_2$, $d_2$ in terms of $\\beta_0$, $\\beta_1$, $\\beta_2$, $\\beta_3$, $\\beta_4$. We have now establised that $f(x)$ is a piecewise polynomial."
   ]
  },
  {
   "cell_type": "markdown",
   "metadata": {
    "id": "325gfqYTefgs"
   },
   "source": [
    "> Ans:  \n",
    "$(a_2, b_2, c_2, d_2)=(?, ?, ?, ?)$"
   ]
  },
  {
   "cell_type": "markdown",
   "metadata": {
    "id": "TGOiKPNf3Imu"
   },
   "source": [
    "(c) Show that $f_1(\\xi) = f_2(\\xi)$. That is, $f(x)$ is continuous at $\\xi$."
   ]
  },
  {
   "cell_type": "markdown",
   "metadata": {
    "id": "9G95F9gz3K2Z"
   },
   "source": [
    "> Ans:  \n"
   ]
  },
  {
   "cell_type": "markdown",
   "metadata": {
    "id": "RvaUUNtjefgu"
   },
   "source": [
    "(d) Show that $f'_1(\\xi) = f'_2(\\xi)$. That is, $f'(x)$ is continuous at $\\xi$."
   ]
  },
  {
   "cell_type": "markdown",
   "metadata": {
    "id": "NhQSd-GH3UgY"
   },
   "source": [
    "> Ans:  \n"
   ]
  },
  {
   "cell_type": "markdown",
   "metadata": {
    "id": "JUb84BbNefgv"
   },
   "source": [
    "(e) Show that $f''_1(\\xi) = f''_2(\\xi)$. That is, $f''(x)$ is continuous at $\\xi$."
   ]
  },
  {
   "cell_type": "markdown",
   "metadata": {
    "id": "J5SIm36lefgv"
   },
   "source": [
    "> Ans:  \n"
   ]
  },
  {
   "cell_type": "markdown",
   "metadata": {
    "id": "XFtipzu_HFRH"
   },
   "source": [
    "(f) Use the `dmatix` to transform the `x` and fit a regression spline to predict `nox` using `dis` for a range of degrees of freedom. Plot the resulting fits and report the resulting RSS."
   ]
  },
  {
   "cell_type": "code",
   "execution_count": null,
   "metadata": {
    "id": "ypEVZC8RHE1N"
   },
   "outputs": [],
   "source": [
    "import statsmodels.api as sm\n",
    "from patsy import dmatrix\n",
    "\n",
    "fig, axes = plt.subplots(3, 3, sharex=True, sharey=True, figsize=(10,10))\n",
    "for i, axs in enumerate(axes):\n",
    "    for j, ax in enumerate(axs):\n",
    "        n = 3+j+3*i\n",
    "        transformed_x = # __________dmatrix__________\n",
    "        result = sm.OLS(nox, transformed_x).fit()\n",
    "        y_hat = result.predict(transformed_x)\n",
    "        predictions = result.get_prediction()\n",
    "        df_predictions = predictions.summary_frame()\n",
    "        sns.scatterplot(x=dis, y=nox, color='tab:gray', alpha=0.2, ax=ax,)\n",
    "        sns.lineplot(x=dis, y=y_hat, color='blue', ax=ax)\n",
    "        sns.lineplot(x=dis, y=df_predictions.mean_ci_lower, color='blue', linestyle='--', ax=ax)\n",
    "        sns.lineplot(x=dis, y=df_predictions.mean_ci_upper, color='blue', linestyle='--', ax=ax)\n",
    "        ax.set(title = 'Degree of freedom = ' + str(n))\n",
    "        ax.axes.set_ylim(0.35,0.9)\n",
    "        print('Degree of freedom =', n, ':', result.ssr)"
   ]
  },
  {
   "cell_type": "markdown",
   "metadata": {
    "id": "vI8V-O6gbUq5"
   },
   "source": [
    "(g) Perform cross-validation or another approach in order to select\n",
    "the best degrees of freedom for a regression spline on this data.\n",
    "Describe your results."
   ]
  },
  {
   "cell_type": "code",
   "execution_count": null,
   "metadata": {
    "id": "MwM8wynBbZPk"
   },
   "outputs": [],
   "source": [
    "from sklearn.linear_model import LinearRegression\n",
    "from sklearn.model_selection import cross_val_score\n",
    "from patsy import dmatrix\n",
    "\n",
    "scores=[]\n",
    "for n in range(3,13):\n",
    "    transformed_x = # __________dmatrix__________\n",
    "    lm = LinearRegression()\n",
    "    scores.append(cross_val_score(lm, transformed_x, nox, cv=10, scoring=make_scorer(mean_squared_error)).mean())\n",
    "sns.lineplot(x=range(3,13), y=scores)"
   ]
  },
  {
   "cell_type": "markdown",
   "metadata": {
    "id": "_yP1ZkRxba1B"
   },
   "source": [
    "> Ans:  \n"
   ]
  },
  {
   "cell_type": "markdown",
   "metadata": {
    "id": "53m2K81WEjNo"
   },
   "source": [
    "### Q3: Local regression."
   ]
  },
  {
   "cell_type": "markdown",
   "metadata": {
    "id": "FWxJRFLNefg0"
   },
   "source": [
    "Use the `sm.nonparametric.lowess` function to fit a locally weighted scatterplot smoothing and predict `nox` using `dis` with fraction (`frac`) from `1/10` to `10/10`. Plot the resulting fits and report the resulting RSS."
   ]
  },
  {
   "cell_type": "code",
   "execution_count": null,
   "metadata": {
    "id": "yVq12Q3VEpGh",
    "scrolled": true
   },
   "outputs": [],
   "source": [
    "import statsmodels.api as sm\n",
    "\n",
    "fig, axes = plt.subplots(3, 3, sharex=True, sharey=True, figsize=(10,10))\n",
    "for i, axs in enumerate(axes):\n",
    "    for j, ax in enumerate(axs):\n",
    "        n = 1+j+3*i\n",
    "        y_hat = # _________lowess_________\n",
    "        sns.scatterplot(x=dis, y=nox, color='tab:gray', alpha=0.2, ax=ax,)\n",
    "        sns.lineplot(x=dis, y=y_hat, color='blue', ax=ax)\n",
    "        ax.set(title = 'Degree of freedom = ' + str(n))\n",
    "        ax.axes.set_ylim(0.35,0.9)\n",
    "        print('Degree of freedom =', n, ':', sum((nox-y_hat)**2))"
   ]
  },
  {
   "cell_type": "markdown",
   "metadata": {
    "id": "mGJk_tAVbd0v"
   },
   "source": [
    "### Q4: Smoothing function."
   ]
  },
  {
   "cell_type": "markdown",
   "metadata": {
    "id": "1LRNIWTgvWXp"
   },
   "source": [
    "Suppose that a curve $\\hat{g}$ is computed to smoothly fit a set of n points\n",
    "using the following formula:\n",
    "$$\\hat{g}=\\text{arg min}_g\\left(\\sum_{i=1}^n (y_i-g(x_i))^2+\\lambda \\int \\left[g^{(m)}(x)\\right]^2\\ dx\\right),$$\n",
    "where $g^{(m)}$ represents the $m$th derivative of $g$ (and $g^{(0)} = g$). Provide example sketches of $\\hat{g}$ in each of the following scenarios."
   ]
  },
  {
   "cell_type": "markdown",
   "metadata": {
    "id": "0db0umRMEmVB"
   },
   "source": [
    "(Following blocks give out an univariate example for $x$ and $y$, since this problem is kind of abstract. For answering following question, consider the function $g$ to be a polynomial function will make the problem easier, and the polynomial function can be implement by `np.polyval` and `np.polyfit`. 也就是說，這題有點抽象。如果不附上實際資料，就算回答出這題也不知道題幹再問啥觀念。所以這題附上點和底下的那些畫圖的 block 來讓大家比較好知道這題在搞啥。)"
   ]
  },
  {
   "cell_type": "code",
   "execution_count": 4,
   "metadata": {
    "colab": {
     "base_uri": "https://localhost:8080/",
     "height": 282
    },
    "executionInfo": {
     "elapsed": 1105,
     "status": "ok",
     "timestamp": 1667787461983,
     "user": {
      "displayName": "周柏呈",
      "userId": "06390788947177930230"
     },
     "user_tz": -480
    },
    "id": "yjW8MravvZiE",
    "outputId": "83b0cc24-cf4d-4acb-d504-cda56978783e"
   },
   "outputs": [
    {
     "data": {
      "text/plain": [
       "<matplotlib.axes._subplots.AxesSubplot at 0x7ff81ab9e610>"
      ]
     },
     "execution_count": 4,
     "metadata": {},
     "output_type": "execute_result"
    },
    {
     "data": {
      "image/png": "[encoded data removed]",
      "text/plain": [
       "<Figure size 432x288 with 1 Axes>"
      ]
     },
     "metadata": {
      "needs_background": "light"
     },
     "output_type": "display_data"
    }
   ],
   "source": [
    "import numpy as np\n",
    "import matplotlib.pyplot as plt\n",
    "import seaborn as sns\n",
    "\n",
    "np.random.seed(42)\n",
    "line = np.linspace(0,5,100)\n",
    "X = np.random.uniform(0,5,size=100)\n",
    "eps = np.random.normal(0,1,100)\n",
    "g = lambda x: 2*np.sin(3*x+5)+0.5*x**2\n",
    "Y = g(X)+eps\n",
    "sns.scatterplot(x=X, y=Y,  color='tab:gray', alpha=0.2)\n",
    "sns.lineplot(x=line, y=g(line), color='gray')"
   ]
  },
  {
   "cell_type": "markdown",
   "metadata": {
    "id": "cx-kPT3E6LDV"
   },
   "source": [
    "(example) $\\lambda=\\infty,\\ m =0$"
   ]
  },
  {
   "cell_type": "markdown",
   "metadata": {
    "id": "V7394e0wefgy"
   },
   "source": [
    "> Ans:  \n",
    "If we expect $\\hat{g}$ to reach minimum under $\\lambda=\\infty$, $g^0(x)$ would be constrained to 0.  \n",
    "Therefore, $\\hat{g}(x)=0$."
   ]
  },
  {
   "cell_type": "code",
   "execution_count": 5,
   "metadata": {
    "executionInfo": {
     "elapsed": 662,
     "status": "ok",
     "timestamp": 1667787470211,
     "user": {
      "displayName": "周柏呈",
      "userId": "06390788947177930230"
     },
     "user_tz": -480
    },
    "id": "cgCZ-RfR7OV6",
    "scrolled": true
   },
   "outputs": [],
   "source": [
    "g_hat = np.zeros_like(line)"
   ]
  },
  {
   "cell_type": "code",
   "execution_count": 6,
   "metadata": {
    "colab": {
     "base_uri": "https://localhost:8080/",
     "height": 282
    },
    "executionInfo": {
     "elapsed": 402,
     "status": "ok",
     "timestamp": 1667787473876,
     "user": {
      "displayName": "周柏呈",
      "userId": "06390788947177930230"
     },
     "user_tz": -480
    },
    "id": "RXXTaDuJvwG6",
    "outputId": "304536fe-779a-4e3b-adf4-2009ffe6695d"
   },
   "outputs": [
    {
     "data": {
      "text/plain": [
       "<matplotlib.axes._subplots.AxesSubplot at 0x7ff81ab03410>"
      ]
     },
     "execution_count": 6,
     "metadata": {},
     "output_type": "execute_result"
    },
    {
     "data": {
      "image/png": "[encoded data removed]",
      "text/plain": [
       "<Figure size 432x288 with 1 Axes>"
      ]
     },
     "metadata": {
      "needs_background": "light"
     },
     "output_type": "display_data"
    }
   ],
   "source": [
    "sns.scatterplot(x=X, y=Y,  color='tab:gray', alpha=0.2)\n",
    "sns.lineplot(x=line, y=g(line), color='gray')\n",
    "sns.lineplot(x=line, y=g_hat)"
   ]
  },
  {
   "cell_type": "markdown",
   "metadata": {
    "id": "dzU3fj-Iolqp"
   },
   "source": [
    "(a) $\\lambda=\\infty,\\ m =1$"
   ]
  },
  {
   "cell_type": "markdown",
   "metadata": {
    "id": "4yJEtnvYwGbO"
   },
   "source": [
    "> Ans:  \n"
   ]
  },
  {
   "cell_type": "code",
   "execution_count": null,
   "metadata": {
    "id": "EBogazzCwALV"
   },
   "outputs": [],
   "source": [
    "g_hat = # _________g_hat_________"
   ]
  },
  {
   "cell_type": "code",
   "execution_count": null,
   "metadata": {
    "id": "89UmCcFWwNvC"
   },
   "outputs": [],
   "source": [
    "sns.scatterplot(x=X, y=Y,  color='tab:gray', alpha=0.2)\n",
    "sns.lineplot(x=line, y=g(line), color='gray')\n",
    "sns.lineplot(x=line, y=g_hat)"
   ]
  },
  {
   "cell_type": "markdown",
   "metadata": {
    "id": "M6yFx2DfCa-l"
   },
   "source": [
    "(b) $\\lambda=\\infty,\\ m =2$"
   ]
  },
  {
   "cell_type": "markdown",
   "metadata": {
    "id": "SvD2XWCEwJaS"
   },
   "source": [
    "> Ans:  \n"
   ]
  },
  {
   "cell_type": "code",
   "execution_count": null,
   "metadata": {
    "id": "2bOFAMoFFPE-"
   },
   "outputs": [],
   "source": [
    "g_hat = # _________g_hat_________"
   ]
  },
  {
   "cell_type": "code",
   "execution_count": null,
   "metadata": {
    "id": "G9hz03MywTSv"
   },
   "outputs": [],
   "source": [
    "sns.scatterplot(x=X, y=Y,  color='tab:gray', alpha=0.2)\n",
    "sns.lineplot(x=line, y=g(line), color='gray')\n",
    "sns.lineplot(x=line, y=g_hat)"
   ]
  },
  {
   "cell_type": "markdown",
   "metadata": {
    "id": "H8JSoLAiCcHK"
   },
   "source": [
    "(c) $\\lambda=\\infty,\\ m =3$"
   ]
  },
  {
   "cell_type": "markdown",
   "metadata": {
    "id": "CjJ0c5K0Chnz"
   },
   "source": [
    "> Ans:  \n"
   ]
  },
  {
   "cell_type": "code",
   "execution_count": null,
   "metadata": {
    "id": "goTITeMlwaxm"
   },
   "outputs": [],
   "source": [
    "g_hat = # _________g_hat_________"
   ]
  },
  {
   "cell_type": "code",
   "execution_count": null,
   "metadata": {
    "id": "GtNY3ZXowVTA"
   },
   "outputs": [],
   "source": [
    "sns.scatterplot(x=X, y=Y,  color='tab:gray', alpha=0.2)\n",
    "sns.lineplot(x=line, y=g(line), color='gray')\n",
    "sns.lineplot(x=line, y=g_hat)"
   ]
  },
  {
   "cell_type": "markdown",
   "metadata": {
    "id": "q0ij-Jwgefgz"
   },
   "source": [
    "(d) $\\lambda=0,\\ m =3$"
   ]
  },
  {
   "cell_type": "markdown",
   "metadata": {
    "id": "q6n8Sv5Aefg0"
   },
   "source": [
    "> Ans:  \n"
   ]
  },
  {
   "cell_type": "code",
   "execution_count": null,
   "metadata": {
    "id": "q2AnNOIfefgz"
   },
   "outputs": [],
   "source": [
    "g_hat = # _________g_hat_________"
   ]
  },
  {
   "cell_type": "code",
   "execution_count": null,
   "metadata": {
    "id": "kpE7dPlDwk4l"
   },
   "outputs": [],
   "source": [
    "sns.scatterplot(x=X, y=Y,  color='tab:gray', alpha=0.2)\n",
    "sns.lineplot(x=line, y=g(line), color='gray')\n",
    "sns.lineplot(x=line, y=g_hat)"
   ]
  },
  {
   "cell_type": "markdown",
   "metadata": {
    "id": "K4yL4yLf5dQv"
   },
   "source": [
    "(e) Which of the parameter control the flexibility, $\\lambda$ or $m$? Which of the parameter control the smoothness, $\\lambda$ or $m$?"
   ]
  },
  {
   "cell_type": "markdown",
   "metadata": {
    "id": "DsFfMnEH6Cds"
   },
   "source": [
    "> Ans:  \n",
    "control the flexibility:  \n",
    "control the smoothness:  "
   ]
  },
  {
   "cell_type": "markdown",
   "metadata": {
    "id": "ZUN6bBmcepYu"
   },
   "source": [
    "\n",
    "\n",
    "---\n",
    "\n"
   ]
  }
 ],
 "metadata": {
  "colab": {
   "collapsed_sections": [],
   "provenance": []
  },
  "kernelspec": {
   "display_name": "Python 3 (ipykernel)",
   "language": "python",
   "name": "python3"
  },
  "language_info": {
   "codemirror_mode": {
    "name": "ipython",
    "version": 3
   },
   "file_extension": ".py",
   "mimetype": "text/x-python",
   "name": "python",
   "nbconvert_exporter": "python",
   "pygments_lexer": "ipython3",
   "version": "3.10.6"
  }
 },
 "nbformat": 4,
 "nbformat_minor": 1
}
