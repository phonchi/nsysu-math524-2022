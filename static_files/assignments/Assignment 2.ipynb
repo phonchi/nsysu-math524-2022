{
 "cells": [
  {
   "cell_type": "markdown",
   "metadata": {},
   "source": [
    "# Assignment 2"
   ]
  },
  {
   "cell_type": "markdown",
   "metadata": {},
   "source": [
    "## 1\n",
    "For each of parts (a) through (d), indicate whether we would generally expect the performance of a flexible statistical learning method to be better or worse than an inflexible method. Justify your answer."
   ]
  },
  {
   "cell_type": "markdown",
   "metadata": {},
   "source": [
    "(a) The sample size n is extremely large, and the number of predictors p is small."
   ]
  },
  {
   "cell_type": "markdown",
   "metadata": {},
   "source": [
    "Ans: *double click here to answer the question.*"
   ]
  },
  {
   "cell_type": "markdown",
   "metadata": {},
   "source": [
    "(b) The number of predictors p is extremely large, and the number of observations n is small."
   ]
  },
  {
   "cell_type": "markdown",
   "metadata": {},
   "source": [
    "Ans: *double click here to answer the question.*"
   ]
  },
  {
   "cell_type": "markdown",
   "metadata": {},
   "source": [
    "(c) The relationship between the predictors and response is highly non-linear."
   ]
  },
  {
   "cell_type": "markdown",
   "metadata": {},
   "source": [
    "Ans: *double click here to answer the question.*"
   ]
  },
  {
   "cell_type": "markdown",
   "metadata": {},
   "source": [
    "(d) The variance of the error terms, i.e. σ2 = Var(ϵ), is extremely high."
   ]
  },
  {
   "cell_type": "markdown",
   "metadata": {},
   "source": [
    "Ans: *double click here to answer the question.*"
   ]
  },
  {
   "cell_type": "markdown",
   "metadata": {},
   "source": [
    "## 4\n",
    "You will now think of some real-life applications for statistical learning."
   ]
  },
  {
   "cell_type": "markdown",
   "metadata": {},
   "source": [
    "(a) Describe three real-life applications in which classification might be useful. Describe the response, as well as the predictors. Is the goal of each application inference or prediction? Explain your answer."
   ]
  },
  {
   "cell_type": "markdown",
   "metadata": {},
   "source": [
    "Ans: *double click here to answer the question.*"
   ]
  },
  {
   "cell_type": "markdown",
   "metadata": {},
   "source": [
    "(b) Describe three real-life applications in which regression might be useful. Describe the response, as well as the predictors. Is the goal of each application inference or prediction? Explain your answer."
   ]
  },
  {
   "cell_type": "markdown",
   "metadata": {},
   "source": [
    "Ans: *double click here to answer the question.*"
   ]
  },
  {
   "cell_type": "markdown",
   "metadata": {},
   "source": [
    "(c) Describe three real-life applications in which cluster analysis might be useful."
   ]
  },
  {
   "cell_type": "markdown",
   "metadata": {},
   "source": [
    "Ans: *double click here to answer the question.*"
   ]
  },
  {
   "cell_type": "markdown",
   "metadata": {},
   "source": [
    "## 8. \n",
    "\n",
    "This exercise relates to the **College** data set, which can be found in the ﬁle **College.csv** on the book website. It contains a number of variables for 777 different universities and colleges in the US. The variables are\n",
    "\n",
    "- **Private** : Public/private indicator\n",
    "- **Apps** : Number of applications received\n",
    "- **Accept** : Number of applicants accepted\n",
    "- **Enroll** : Number of new students enrolled\n",
    "- **Top10perc** : New students from top 10 % of high school class\n",
    "- **Top25perc** : New students from top 25 % of high school class\n",
    "- **F.Undergrad** : Number of full-time undergraduates\n",
    "- **P.Undergrad** : Number of part-time undergraduates\n",
    "- **Outstate** : Out-of-state tuition\n",
    "- **Room.Board** : Room and board costs\n",
    "- **Books** : Estimated book costs\n",
    "- **Personal** : Estimated personal spending\n",
    "- **PhD** : Percent of faculty with Ph.D.’s\n",
    "- **Terminal** : Percent of faculty with terminal degree\n",
    "- **S.F.Ratio** : Student/faculty ratio\n",
    "- **perc.alumni** : Percent of alumni who donate\n",
    "- **Expend** : Instructional expenditure per student\n",
    "- **Grad.Rate** : Graduation rate\n",
    "\n",
    "Before reading the data into <span style=\"color: #922B21;\">Python</span>, it can be viewed in Excel or a text\n",
    "editor.\n",
    "\n",
    "(a) Use the <span style=\"color: #922B21;\">pd.read_csv()</span>\n",
    " function to read the data into python. Call the loaded data <span style=\"color: #922B21;\">college</span>. Make sure that you have the directory set to the correct location for the data."
   ]
  },
  {
   "cell_type": "code",
   "execution_count": null,
   "metadata": {},
   "outputs": [],
   "source": []
  },
  {
   "cell_type": "markdown",
   "metadata": {},
   "source": [
    "(b) Look at the data using the <span style=\"color: #922B21;\">college.head()</span> function. You should notice\n",
    "that the first column is just the name of each university.We don’t\n",
    "really want <span style=\"color: #922B21;\">Python</span> to treat this as data. However, it may be handy to have these names for later. Try the following commands:\n",
    "\n",
    "---\n",
    "> college.index = college[\"Unnamed: 0\"]<br>\n",
    "> college.index.name = 'Names'<br>\n",
    "> college.head()<br>\n",
    "---\n",
    "\n",
    "You should see that there is now a <span style=\"color: #922B21;\">index</span> column with the name of each university recorded. This means that <span style=\"color: #922B21;\">python</span> has given\n",
    "each row a name corresponding to the appropriate university. <span style=\"color: #922B21;\">Python</span>\n",
    "will not try to perform calculations on the row names. However,\n",
    "we still need to eliminate the first column in the data where the\n",
    "names are stored. Try\n",
    "\n",
    "---\n",
    "> college = college.drop(\"Unnamed: 0\", axis=1)<br>\n",
    "> college.head()\n",
    "---\n",
    "\n",
    "Now you should see that the first data column is <span style=\"color: #922B21;\">Private</span>. Note\n",
    "that another column labeled <span style=\"color: #922B21;\">index</span> now appears before the\n",
    "<span style=\"color: #922B21;\">Private</span> column. However, this is not a data column but rather the name that <span style=\"color: #922B21;\">Python</span> is giving to each row."
   ]
  },
  {
   "cell_type": "code",
   "execution_count": null,
   "metadata": {},
   "outputs": [],
   "source": []
  },
  {
   "cell_type": "markdown",
   "metadata": {},
   "source": [
    "(c) \n",
    "\n",
    "i. Use the <span style=\"color: #922B21;\">college.describe()</span> function to produce a numerical summary of the variables in the data set."
   ]
  },
  {
   "cell_type": "code",
   "execution_count": null,
   "metadata": {},
   "outputs": [],
   "source": []
  },
  {
   "cell_type": "markdown",
   "metadata": {},
   "source": [
    "ii. Use the <span style=\"color: #922B21;\">sns.pairplot()</span> function to produce a scatterplot matrix of the first ten columns or variables of the data. Recall that you can reference the first ten columns of a matrix <span style=\"color: #922B21;\">A</span> using\n",
    "<span style=\"color: #922B21;\">A.iloc[:,0:10]</span>."
   ]
  },
  {
   "cell_type": "code",
   "execution_count": null,
   "metadata": {},
   "outputs": [],
   "source": []
  },
  {
   "cell_type": "markdown",
   "metadata": {},
   "source": [
    "iii. Use the <span style=\"color: #922B21;\">sns.boxplot()</span> function to produce side-by-side boxplots of <span style=\"color: #922B21;\">Outstate</span> versus <span style=\"color: #922B21;\">Private</span>."
   ]
  },
  {
   "cell_type": "code",
   "execution_count": null,
   "metadata": {},
   "outputs": [],
   "source": []
  },
  {
   "cell_type": "markdown",
   "metadata": {},
   "source": [
    "iv. Create a new qualitative variable, called <span style=\"color: #922B21;\">Elite</span>, by binning the <span style=\"color: #922B21;\">Top10perc</span> variable. We are going to divide universities\n",
    "into two groups based on whether or not the proportion of students coming from the top 10% of their high school classes exceeds 50 %.\n",
    "\n",
    "---\n",
    "> college['Elite'] = np.where(college['Top10perc'] > 50,'Yes','No')<br>\n",
    "> college.head()\n",
    "---\n",
    "\n",
    "Use the <span style=\"color: #922B21;\">college['Elite'].value_counts()</span> function to see how many elite universities there are. Now use the <span style=\"color: #922B21;\">sns.boxplot()</span> function to produce side-by-side boxplots of <span style=\"color: #922B21;\">Outstate</span> versus <span style=\"color: #922B21;\">Elite</span>.\n",
    "\n",
    "\n"
   ]
  },
  {
   "cell_type": "code",
   "execution_count": null,
   "metadata": {},
   "outputs": [],
   "source": []
  },
  {
   "cell_type": "markdown",
   "metadata": {},
   "source": [
    "v. Use the <span style=\"color: #922B21;\">sns.histplot()</span> function to produce some histograms with differing numbers of bins for a few of the quantitative variables."
   ]
  },
  {
   "cell_type": "code",
   "execution_count": null,
   "metadata": {},
   "outputs": [],
   "source": []
  },
  {
   "cell_type": "markdown",
   "metadata": {},
   "source": [
    "vi. Continue exploring the data, and provide a brief summary of what you discover."
   ]
  },
  {
   "cell_type": "code",
   "execution_count": null,
   "metadata": {},
   "outputs": [],
   "source": []
  },
  {
   "cell_type": "markdown",
   "metadata": {},
   "source": [
    "# 9\n",
    "This exercise involves the **Auto** data set studied in the lab. Make sure\n",
    "that the missing values have been removed from the data.\n",
    "\n",
    "(a) Which of the predictors are quantitative, and which are qualitative?"
   ]
  },
  {
   "cell_type": "code",
   "execution_count": null,
   "metadata": {},
   "outputs": [],
   "source": []
  },
  {
   "cell_type": "markdown",
   "metadata": {},
   "source": [
    "(b) What is the range of each quantitative predictor? You can answer\n",
    "this using the Auto.describe() function."
   ]
  },
  {
   "cell_type": "code",
   "execution_count": null,
   "metadata": {},
   "outputs": [],
   "source": []
  },
  {
   "cell_type": "markdown",
   "metadata": {},
   "source": [
    "(c) What is the mean and standard deviation of each quantitative\n",
    "predictor?"
   ]
  },
  {
   "cell_type": "code",
   "execution_count": null,
   "metadata": {},
   "outputs": [],
   "source": []
  },
  {
   "cell_type": "markdown",
   "metadata": {},
   "source": [
    "(d) Now remove the 10th through 85th observations. What is the\n",
    "range, mean, and standard deviation of each predictor in the\n",
    "subset of the data that remains?"
   ]
  },
  {
   "cell_type": "code",
   "execution_count": null,
   "metadata": {},
   "outputs": [],
   "source": []
  },
  {
   "cell_type": "markdown",
   "metadata": {},
   "source": [
    "(e) Using the full data set, investigate the predictors graphically,\n",
    "using scatterplots or other tools of your choice. Create some plots\n",
    "highlighting the relationships among the predictors. Comment\n",
    "on your findings."
   ]
  },
  {
   "cell_type": "code",
   "execution_count": null,
   "metadata": {},
   "outputs": [],
   "source": []
  },
  {
   "cell_type": "markdown",
   "metadata": {},
   "source": [
    "(f) Suppose that we wish to predict gas mileage (<span style=\"color: #922B21;\">mpg</span>) on the basis\n",
    "of the other variables. Do your plots suggest that any of the\n",
    "other variables might be useful in predicting <span style=\"color: #922B21;\">mpg</span>? Justify your\n",
    "answer."
   ]
  },
  {
   "cell_type": "code",
   "execution_count": null,
   "metadata": {},
   "outputs": [],
   "source": []
  }
 ],
 "metadata": {
  "kernelspec": {
   "display_name": "Python 3",
   "language": "python",
   "name": "python3"
  },
  "language_info": {
   "codemirror_mode": {
    "name": "ipython",
    "version": 3
   },
   "file_extension": ".py",
   "mimetype": "text/x-python",
   "name": "python",
   "nbconvert_exporter": "python",
   "pygments_lexer": "ipython3",
   "version": "3.8.8"
  }
 },
 "nbformat": 4,
 "nbformat_minor": 4
}
