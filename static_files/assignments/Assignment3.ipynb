{
 "cells": [
  {
   "cell_type": "markdown",
   "metadata": {
    "id": "XsMVgoYrbd0m"
   },
   "source": [
    "# Chapter 3 - Regression Exercise"
   ]
  },
  {
   "cell_type": "markdown",
   "metadata": {
    "id": "h7w2vRTAk2HA"
   },
   "source": [
    "#### Student ID:\n",
    "\n",
    "#### Name:"
   ]
  },
  {
   "cell_type": "markdown",
   "metadata": {
    "id": "7GTYMFANbd0t"
   },
   "source": [
    "## Conceptual"
   ]
  },
  {
   "cell_type": "markdown",
   "metadata": {
    "id": "Z_99BKJubd0u"
   },
   "source": [
    "### Q1: Suppose we have a data set with five predictors, $X_1$ = GPA, $X_2$ = IQ, $X_3$ = Level (1 for College and 0 for High School), $X_4$ = Interaction between GPA and IQ, and $X_5$ = Interaction between GPA and Level. The response is starting salary after graduation (in thousands of dollars). Suppose we use least squares to fit the model, and get $\\hat{\\beta}_0=50,\\hat{\\beta}_1=20,\\hat{\\beta}_2=0.07,\\hat{\\beta}_3=36,\\hat{\\beta}_4=0.01,\\hat{\\beta}_5=-10$."
   ]
  },
  {
   "cell_type": "markdown",
   "metadata": {
    "id": "PUiktvyGF7dp"
   },
   "source": [
    "(a) Which answer is correct, and why?\n",
    "> (i) For a fixed value of IQ and GPA, high school graduates earn more, on average, than college graduates.\n",
    "\n",
    "> (ii) For a fixed value of IQ and GPA, college graduates earn more, on average, than high school graduates.\n",
    "\n",
    "> (iii) For a fixed value of IQ and GPA, high school graduates earn more, on average, than college graduates provided that the GPA is high enough.\n",
    "\n",
    "> (iv) For a fixed value of IQ and GPA, college graduates earn more, on average, than high school graduates provided that the GPA is high enough."
   ]
  },
  {
   "cell_type": "markdown",
   "metadata": {
    "id": "Ia0b99CpnQRW"
   },
   "source": [
    "> Ans:   "
   ]
  },
  {
   "cell_type": "markdown",
   "metadata": {
    "id": "d9z_hX-AtWTm"
   },
   "source": [
    "(b) Predict the salary of a college graduate with IQ of 110 and a GPA of 4.0."
   ]
  },
  {
   "cell_type": "markdown",
   "metadata": {
    "id": "wDn7akjGtgGq"
   },
   "source": [
    "> Ans:   "
   ]
  },
  {
   "cell_type": "markdown",
   "metadata": {
    "id": "t29ypB3Otknp"
   },
   "source": [
    "(c) True or false: Since the coefficient for the GPA/IQ interaction term is very small, there is very little evidence of an interaction effect. Justify your answer."
   ]
  },
  {
   "cell_type": "markdown",
   "metadata": {
    "id": "RVtP6dKotmgX"
   },
   "source": [
    "> Ans:  "
   ]
  },
  {
   "cell_type": "markdown",
   "metadata": {
    "id": "do66Q4etbd0u"
   },
   "source": [
    "### Q2: I collect a set of data ($n = 100$ observations) containing a single predictor and a quantitative response. I then fit a linear regression model to the data, as well as a separate cubic regression, i.e. $Y = \\beta_0 + \\beta_1X + \\beta_2X^2 + \\beta_3X^3 + \\epsilon$."
   ]
  },
  {
   "cell_type": "markdown",
   "metadata": {
    "id": "xJW0nNb3mPQB"
   },
   "source": [
    "(a) Suppose that the true relationship between X and Y is linear, i.e. $Y = \\beta_0 + \\beta_1X + \\epsilon$. Consider the training residual sum of squares (RSS) for the linear regression, and also the training RSS for the cubic regression. Would we expect one to be lower than the other, would we expect them to be the same, or is there not enough information to tell? Justify your answer."
   ]
  },
  {
   "cell_type": "markdown",
   "metadata": {
    "id": "XRJNcKMr3BYD"
   },
   "source": [
    "> Ans:  "
   ]
  },
  {
   "cell_type": "markdown",
   "metadata": {
    "id": "TGOiKPNf3Imu"
   },
   "source": [
    "(b) Answer (a) using test rather than training RSS."
   ]
  },
  {
   "cell_type": "markdown",
   "metadata": {
    "id": "9G95F9gz3K2Z"
   },
   "source": [
    "> Ans:  "
   ]
  },
  {
   "cell_type": "markdown",
   "metadata": {
    "id": "R1Akrsaf3Lmk"
   },
   "source": [
    "(c) Suppose that the true relationship between X and Y is not linear, but we don’t know how far it is from linear. Consider the training RSS for the linear regression, and also the training RSS for the cubic regression. Would we expect one to be lower than the other, would we expect them to be the same, or is there not enough information to tell? Justify your answer."
   ]
  },
  {
   "cell_type": "markdown",
   "metadata": {
    "id": "NhQSd-GH3UgY"
   },
   "source": [
    "> Ans:  "
   ]
  },
  {
   "cell_type": "markdown",
   "metadata": {
    "id": "5G6pVPfB3Wuv"
   },
   "source": [
    "(d) Answer (c) using test rather than training RSS."
   ]
  },
  {
   "cell_type": "markdown",
   "metadata": {
    "id": "s14M5Ecs3XQf"
   },
   "source": [
    "> Ans:  "
   ]
  },
  {
   "cell_type": "markdown",
   "metadata": {
    "id": "7fqDp0D0bd0w"
   },
   "source": [
    "## Applied"
   ]
  },
  {
   "cell_type": "code",
   "execution_count": null,
   "metadata": {
    "id": "9kOQ8mIo6ERX"
   },
   "outputs": [],
   "source": [
    "import pandas as pd\n",
    "import numpy as np\n",
    "import statsmodels.api as sm\n",
    "import scipy\n",
    "import matplotlib.pyplot as plt"
   ]
  },
  {
   "cell_type": "markdown",
   "metadata": {
    "id": "mGJk_tAVbd0v"
   },
   "source": [
    "### Q3: This question should be answered using the <span style='color:red'>Carseats</span> data set."
   ]
  },
  {
   "cell_type": "markdown",
   "metadata": {
    "id": "cx-kPT3E6LDV"
   },
   "source": [
    "(a) Fit a multiple regression model to predict <span style='color:red'>Sales</span> using <span style='color:red'>Price</span>, <span style='color:red'>Urban</span>, and <span style='color:red'>US</span>."
   ]
  },
  {
   "cell_type": "code",
   "execution_count": null,
   "metadata": {
    "id": "cgCZ-RfR7OV6"
   },
   "outputs": [],
   "source": []
  },
  {
   "cell_type": "markdown",
   "metadata": {
    "id": "dzU3fj-Iolqp"
   },
   "source": [
    "(b) Provide an interpretation of each coefficient in the model. Be\n",
    "careful—some of the variables in the model are qualitative!"
   ]
  },
  {
   "cell_type": "markdown",
   "metadata": {
    "id": "QFID9Nt_7Tra"
   },
   "source": [
    "> Ans:  "
   ]
  },
  {
   "cell_type": "markdown",
   "metadata": {
    "id": "M6yFx2DfCa-l"
   },
   "source": [
    "(c) Write out the model in equation form, being careful to handle the qualitative variables properly."
   ]
  },
  {
   "cell_type": "markdown",
   "metadata": {
    "id": "fshOiMvsCgXo"
   },
   "source": [
    "> Ans:  "
   ]
  },
  {
   "cell_type": "markdown",
   "metadata": {
    "id": "UEcPYkW0Cbvp"
   },
   "source": [
    "(d) For which of the predictors can you reject the null hypothesis $H_0 : \\beta_j = 0$?"
   ]
  },
  {
   "cell_type": "markdown",
   "metadata": {
    "id": "rlxgaSx8ChDK"
   },
   "source": [
    "> Ans:  "
   ]
  },
  {
   "cell_type": "markdown",
   "metadata": {
    "id": "H8JSoLAiCcHK"
   },
   "source": [
    "(e) On the basis of your response to the previous question, fit a smaller model that only uses the predictors for which there is evidence of association with the outcome."
   ]
  },
  {
   "cell_type": "markdown",
   "metadata": {
    "id": "CjJ0c5K0Chnz"
   },
   "source": [
    "> Ans:  "
   ]
  },
  {
   "cell_type": "markdown",
   "metadata": {
    "id": "BWqY3JyDCcX6"
   },
   "source": [
    "(f) How well do the models in (a) and (e) fit the data?"
   ]
  },
  {
   "cell_type": "markdown",
   "metadata": {
    "id": "HczgjfNmCizL"
   },
   "source": [
    "> Ans:  "
   ]
  },
  {
   "cell_type": "markdown",
   "metadata": {
    "id": "fcOhLa_WDGXw"
   },
   "source": [
    "(g) Using the model from (e), obtain $95\\%$ confidence intervals for\n",
    "the coefficient(s)."
   ]
  },
  {
   "cell_type": "code",
   "execution_count": null,
   "metadata": {
    "id": "JqmzEMubMLx5"
   },
   "outputs": [],
   "source": []
  },
  {
   "cell_type": "markdown",
   "metadata": {
    "id": "Fkf9Hjl4bd0w"
   },
   "source": [
    "### Q4: This problem focuses on the *collinearity* problem."
   ]
  },
  {
   "cell_type": "markdown",
   "metadata": {
    "id": "53m2K81WEjNo"
   },
   "source": [
    "(a) Perform the following commands in <span style='color:red'>Python</span>:"
   ]
  },
  {
   "cell_type": "code",
   "execution_count": null,
   "metadata": {
    "id": "yVq12Q3VEpGh"
   },
   "outputs": [],
   "source": [
    "np.random.seed(1)\n",
    "x1 = np.random.normal(size=100)\n",
    "x2 = 0.5*x1 + np.random.normal(size=100)/10\n",
    "y = 2 + 2*x1 + 0.3*x2 + np.random.normal(size=100)"
   ]
  },
  {
   "cell_type": "markdown",
   "metadata": {
    "id": "dnY-GdQ3EtRP"
   },
   "source": [
    "The last line corresponds to creating a linear model in which <span style='color:red'>y</span> is\n",
    "a function of <span style='color:red'>x1</span> and <span style='color:red'>x2</span>. Write out the form of the linear model.\n",
    "What are the regression coefficients?"
   ]
  },
  {
   "cell_type": "markdown",
   "metadata": {
    "id": "eOICfhRBE4Oh"
   },
   "source": [
    "> Ans:  "
   ]
  },
  {
   "cell_type": "markdown",
   "metadata": {
    "id": "hg74jgJAE_z4"
   },
   "source": [
    "(b) What is the correlation between <span style='color:red'>x1</span> and <span style='color:red'>x2</span>? Create a scatterplot\n",
    "displaying the relationship between the variables."
   ]
  },
  {
   "cell_type": "code",
   "execution_count": null,
   "metadata": {
    "id": "Frq9W3pMMaNg"
   },
   "outputs": [],
   "source": []
  },
  {
   "cell_type": "markdown",
   "metadata": {
    "id": "wycwf6NGE52x"
   },
   "source": [
    "> Ans:  "
   ]
  },
  {
   "cell_type": "markdown",
   "metadata": {
    "id": "ljhJnzPaFClH"
   },
   "source": [
    "(c) Using this data, fit a least squares regression to predict <span style='color:red'>y</span> using <span style='color:red'>x1</span> and <span style='color:red'>x2</span>. Describe the results obtained. What are $\\hat{\\beta}_0$,  $\\hat{\\beta}_1$, and $\\hat{\\beta}_2$? How do these relate to the true $\\beta_0$, $\\beta_1$, and $\\beta_2$? Can you reject the null hypothesis $H_0 : \\beta_1 = 0$? How about the null hypothesis $H_0 : \\beta_2 = 0$?"
   ]
  },
  {
   "cell_type": "code",
   "execution_count": null,
   "metadata": {
    "id": "2gNh7DUrFIZx"
   },
   "outputs": [],
   "source": []
  },
  {
   "cell_type": "markdown",
   "metadata": {
    "id": "MxRjKhoNE7Ih"
   },
   "source": [
    "> Ans:  "
   ]
  },
  {
   "cell_type": "markdown",
   "metadata": {
    "id": "Vni-KizLFMuc"
   },
   "source": [
    "(d) Now fit a least squares regression to predict <span style='color:red'>y</span> using only <span style='color:red'>x1</span>. Comment on your results. Can you reject the null hypothesis $H_0 : \\beta_1 = 0$?"
   ]
  },
  {
   "cell_type": "code",
   "execution_count": null,
   "metadata": {
    "id": "KWDQk4ByFOy7"
   },
   "outputs": [],
   "source": []
  },
  {
   "cell_type": "markdown",
   "metadata": {
    "id": "jOjLXlFpE7zp"
   },
   "source": [
    "> Ans:  "
   ]
  },
  {
   "cell_type": "markdown",
   "metadata": {
    "id": "CVHpBcQXFUZb"
   },
   "source": [
    "(e) Now fit a least squares regression to predict <span style='color:red'>y</span> using only <span style='color:red'>x2</span>. Comment on your results. Can you reject the null hypothesis $H_0 : \\beta_2 = 0$?"
   ]
  },
  {
   "cell_type": "code",
   "execution_count": null,
   "metadata": {
    "id": "Yj3diWu12c0V"
   },
   "outputs": [],
   "source": []
  },
  {
   "cell_type": "markdown",
   "metadata": {
    "id": "OJQ12F_uFPpO"
   },
   "source": [
    "> Ans:  "
   ]
  },
  {
   "cell_type": "markdown",
   "metadata": {
    "id": "l8o6KSh_FXHs"
   },
   "source": [
    "(f) Do the results obtained in (c)–(e) contradict each other? Explain your answer."
   ]
  },
  {
   "cell_type": "markdown",
   "metadata": {
    "id": "UDHhswcjFSTd"
   },
   "source": [
    "> Ans:  "
   ]
  },
  {
   "cell_type": "markdown",
   "metadata": {
    "id": "fr4dhWc7FelA"
   },
   "source": [
    "(g) Now suppose we obtain one additional observation, which was\n",
    "unfortunately mismeasured."
   ]
  },
  {
   "cell_type": "code",
   "execution_count": null,
   "metadata": {
    "id": "tI0gE3TxFhEX"
   },
   "outputs": [],
   "source": [
    "x1 = np.append(x1,0.1)\n",
    "x2 = np.append(x2,0.8)\n",
    "y = np.append(y,6)"
   ]
  },
  {
   "cell_type": "markdown",
   "metadata": {
    "id": "5d9u2DrGFlUg"
   },
   "source": [
    "Re-fit the linear models from (c) to (e) using this new data. What\n",
    "effect does this new observation have on the each of the models?\n",
    "In each model, is this observation an outlier? A high-leverage\n",
    "point? Both? Explain your answers."
   ]
  },
  {
   "cell_type": "code",
   "execution_count": null,
   "metadata": {
    "id": "Y-4bKq-LMgjY"
   },
   "outputs": [],
   "source": []
  },
  {
   "cell_type": "markdown",
   "metadata": {
    "id": "QZLXxkh4FR_k"
   },
   "source": [
    "> Ans:  "
   ]
  }
 ],
 "metadata": {
  "colab": {
   "collapsed_sections": [],
   "provenance": []
  },
  "kernelspec": {
   "display_name": "Python 3 (ipykernel)",
   "language": "python",
   "name": "python3"
  },
  "language_info": {
   "codemirror_mode": {
    "name": "ipython",
    "version": 3
   },
   "file_extension": ".py",
   "mimetype": "text/x-python",
   "name": "python",
   "nbconvert_exporter": "python",
   "pygments_lexer": "ipython3",
   "version": "3.8.12"
  }
 },
 "nbformat": 4,
 "nbformat_minor": 1
}
